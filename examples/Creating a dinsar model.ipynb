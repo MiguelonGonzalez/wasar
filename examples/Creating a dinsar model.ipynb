{
 "cells": [
  {
   "cell_type": "markdown",
   "id": "d7c7005f",
   "metadata": {},
   "source": [
    "---------------------------------------------------------------------------------------------------------------------------\n",
    "This tutorial relies on the example model provided by `dinsar`, which is built from real public datasets belonging to a small area near the Doñana National Park (southern Spain). The model can be accessed directly through  `dinsar.example.get_model()` and the relative paths to the data, through `dinsar.example.get_path()`.\n",
    "For more information about the data sources, see the file *Data Sources.txt*, located in the same folder as this tutorial.\n",
    "\n",
    "Fore **more information** about the use of any function, method, class o moduel, use `help` bult-in (or `?`) to acces its documentation:\n",
    "\n",
    "`>>> help(dinsar.parts)` or press the **tabulator** key in Jupyter Notebook to access an object's methods.\n",
    "\n",
    "---------------------------------------------------------------------------------------------------------------------------\n",
    "\n",
    "## 1. Creation of a Model\n",
    "The dinsar package design holds a data **model** as the main object around which all of the program functionalities spin around. This model will include all the DInSAR datasets and databases that are consulted in the study area and is created through the `Model` class. Since the simplest way of analyzing DInSAR deformation points (also called persistent or permanent scatterers; PS) is through their **aggregation into polygons**, the initialization of this class requieres a polygonal spatial file, that should be introduced as a relative path to its ubication. This way, each of these polygons will define the different analysis areas of the model -analogous to [ADA's](https://open.igme.es/xmlui/bitstream/handle/20.500.12468/708/fast_detection_ground_2017.pdf?sequence=1) (Active Deformation Areas), called in the code as **agregados** and hereinafter as *aggregates*.\n",
    "\n",
    "Althoug the correct generation of this aggregates requiere the application of specific point aggregation techniques, a simple way to generate this layer of polygons is through the 'Aggregate Points' tool of QGIS."
   ]
  },
  {
   "cell_type": "code",
   "execution_count": 1,
   "id": "c05a8e53",
   "metadata": {},
   "outputs": [],
   "source": [
    "import dinsar\n",
    "\n",
    "fname = dinsar.example.get_path('agregados')\n",
    "Doñana = dinsar.Model(fname, epsg=25830)"
   ]
  },
  {
   "cell_type": "markdown",
   "id": "835ae9d7",
   "metadata": {},
   "source": [
    "You can specify the CRS (**Coordinate Reference System**) number of the layer through the `epsg` argument of the class. That CRS will be considered as the project one, and any layer with a different CRS that is added to the model will be reprojected to that.\n",
    "\n",
    "It's possile to see the current project CRS through `crs` method. Also, the project's CRS can be changed through the `reproject` method, which will reproject all model's layers to the indicated CRS."
   ]
  },
  {
   "cell_type": "code",
   "execution_count": 2,
   "id": "b208c1e9",
   "metadata": {
    "scrolled": true
   },
   "outputs": [
    {
     "data": {
      "text/plain": [
       "<Projected CRS: PROJCS[\"ETRS89_UTM_zone_30N\",GEOGCS[\"ETRS89\",DATUM ...>\n",
       "Name: ETRS89_UTM_zone_30N\n",
       "Axis Info [cartesian]:\n",
       "- [east]: Easting (metre)\n",
       "- [north]: Northing (metre)\n",
       "Area of Use:\n",
       "- undefined\n",
       "Coordinate Operation:\n",
       "- name: UTM zone 30N\n",
       "- method: Transverse Mercator\n",
       "Datum: European Terrestrial Reference System 1989\n",
       "- Ellipsoid: GRS 1980\n",
       "- Prime Meridian: Greenwich"
      ]
     },
     "execution_count": 2,
     "metadata": {},
     "output_type": "execute_result"
    }
   ],
   "source": [
    "Doñana.crs"
   ]
  },
  {
   "cell_type": "markdown",
   "id": "c8239fd8",
   "metadata": {},
   "source": [
    "## 2. Definition of Model's parts\n",
    "\n",
    "Once the Model of the zone has been created, the next operation to be performed is the definition of the **parts** that will compose it. There are four possible types of parts, each one of them being a different object, and being intensively explained in its documentation. Example: see `Dataset?`.\n",
    "\n",
    "- `Dataset`\n",
    "\n",
    "- `Piezometria`\n",
    "\n",
    "- `Precipitacion`\n",
    "\n",
    "- `DataBase`\n",
    "\n",
    "While the `Dataset` class hosts a DInSAR dataset, the rest of the classes represent databases, which may have associated spatial information. Among the latter, `Piezometria` and `Precipitacion` are specially designed to host piezometric and pluviometric databases, respectively, with data of any other nature being introduced through the `DataBase` class.\n",
    "\n",
    "As many parts as desired can be defined and added to the model, requiring in the instantialization of each of them the path to the file location, as well as the name with which they will be referred to, the color with which their content will be displayed or other options (see \\*\\*kwargs of each function).\n",
    "\n",
    "### DInSAR datasets definition:   "
   ]
  },
  {
   "cell_type": "code",
   "execution_count": 3,
   "id": "15e320f1",
   "metadata": {},
   "outputs": [],
   "source": [
    "# Defining Ascending Track (called 'Asc') of Sentinel DInSAR dataset.\n",
    "fname_1 = dinsar.example.get_path('sentinel-asc')\n",
    "Asc = dinsar.Dataset(fname_1, name='Asc', color='#99F550')\n",
    "\n",
    "# Defining Descending Track (alias, 'Desc') of Sentinel DInSAR dataset.\n",
    "fname_2 = dinsar.example.get_path('sentinel-desc')\n",
    "Desc = dinsar.Dataset(fname_2, name='Desc', color='#FBA608')"
   ]
  },
  {
   "cell_type": "markdown",
   "id": "c1fedef5",
   "metadata": {},
   "source": [
    "###  Piezometry and Rainfall databases"
   ]
  },
  {
   "cell_type": "code",
   "execution_count": 4,
   "id": "ed2e17e0",
   "metadata": {},
   "outputs": [
    {
     "name": "stdout",
     "output_type": "stream",
     "text": [
      "Geometría añadida correctamente.\n",
      "Geometría añadida correctamente.\n"
     ]
    }
   ],
   "source": [
    "# Defining piezometry database (called 'Piezo_bbdd'), with other arguments ('sep')\n",
    "# passed in this case to pd.read_file function.\n",
    "fname = dinsar.example.get_path('piezometria_bd')\n",
    "piezo = dinsar.Piezometria(fname, name='Piezo_bbdd', sep='\\t')\n",
    "\n",
    "# Adding spatial data to 'Piezo_bbdd'\n",
    "shp_fname = dinsar.example.get_path('piezometria_shp')\n",
    "piezo.append_geometry(shp_fname)\n",
    "\n",
    "#***************************************************************************************************************************\n",
    "# Defining pluviometric database (called 'P'), with other arguments ('sep')\n",
    "# passed in this case to pd.read_file function.\n",
    "fname = dinsar.example.get_path('precipitacion_bd')\n",
    "precipi = dinsar.Precipitacion(fname, name='P', sep='\\t')\n",
    "\n",
    "# Adding spatial data to 'P'\n",
    "shp_precipi = dinsar.example.get_path('precipitacion_shp')\n",
    "precipi.append_geometry(shp_precipi)"
   ]
  },
  {
   "cell_type": "markdown",
   "id": "2db69b13",
   "metadata": {},
   "source": [
    "To add spatial information to a Part (only for none `Dataset` type ones) you can simply do it through `append_geometry` method. Its correct perform requires the sensors to be named with exactly the same name that it binds in the database."
   ]
  },
  {
   "cell_type": "markdown",
   "id": "8fcede6d",
   "metadata": {},
   "source": [
    "## 3. Adding parts to the Model\n",
    "\n",
    "Now all the created parts have to be added to the model, operation that is done through the `append` method, a function of `Model` that returns None."
   ]
  },
  {
   "cell_type": "code",
   "execution_count": 5,
   "id": "bd92e051",
   "metadata": {},
   "outputs": [
    {
     "data": {
      "text/plain": [
       "[None, None, None, None]"
      ]
     },
     "execution_count": 5,
     "metadata": {},
     "output_type": "execute_result"
    }
   ],
   "source": [
    "parts = [Asc, Desc, piezo, precipi]\n",
    "\n",
    "[Doñana.append(i) for i in parts]"
   ]
  },
  {
   "cell_type": "markdown",
   "id": "d93bd9c2",
   "metadata": {},
   "source": [
    "The creation of this **example model** can also be done **quickly** in the following way, which will be used in the rest of the tutorials, as well as in the code examples:\n",
    "\n",
    "> `Doñana = dinsar.example.get_model()`"
   ]
  },
  {
   "cell_type": "markdown",
   "id": "8047c8a6",
   "metadata": {},
   "source": [
    "While the PS that make up the DInSAR datasets added to the model are **cut** to the aggregates extension, the rest of the parts remain unchanged when they are added to the model. Thus, if after adding the parts to the model you want to work with the datasets individually, you can access them simply through the created object or through the `get` method of the model. In the latter case, keep in mind that it will hosts only the PS located within the aggregates.\n",
    "\n",
    "For the rest of the databases (`Piezometria`, `Precipitacion` and `DataBase`) it is indifferent to do it one way or another. Example:"
   ]
  },
  {
   "cell_type": "markdown",
   "id": "6a666bb5",
   "metadata": {},
   "source": [
    "## 4. Accesing model information"
   ]
  },
  {
   "cell_type": "markdown",
   "id": "a482f089",
   "metadata": {},
   "source": [
    "The following methods allow acces to **model features**:\n",
    "\n",
    "- `agregados` Returns a list with the model aggregates.\n",
    "\n",
    "- `datasets` Returns a list with the model DInSAR datasets.\n",
    "\n",
    "- `piezo_bds` Returns a list with the model piezometry databases.\n",
    "\n",
    "- `precipi_bds` Returns a list with the model rainfall databases.\n",
    "\n",
    "- `other_bds` Returns a list with the model databases of other nature.\n",
    "\n",
    "It is also possible to print all model information through `info` method."
   ]
  },
  {
   "cell_type": "code",
   "execution_count": 6,
   "id": "e70031cd",
   "metadata": {},
   "outputs": [
    {
     "name": "stdout",
     "output_type": "stream",
     "text": [
      ". \u001b[1mA-DInSAR datasets\u001b[0m: Asc, Desc\n",
      ". \u001b[1mBd Piezometría\u001b[0m: Piezo_bbdd\n",
      ". \u001b[1mBd Precipitación\u001b[0m: P\n",
      ". \u001b[1mOtras Bd\u001b[0m: \n",
      ". \u001b[1mNº Agregados\u001b[0m: 5\n",
      ". Sistema de Referencia de Coordenadas del Proyecto' (\u001b[1mSRC\u001b[0m):            ETRS89_UTM_zone_30N\n",
      ". Todas las capas presentan el \u001b[1mmismo SRC\u001b[0m: True\n"
     ]
    }
   ],
   "source": [
    "Doñana.info"
   ]
  }
 ],
 "metadata": {
  "kernelspec": {
   "display_name": "Python 3 (ipykernel)",
   "language": "python",
   "name": "python3"
  },
  "language_info": {
   "codemirror_mode": {
    "name": "ipython",
    "version": 3
   },
   "file_extension": ".py",
   "mimetype": "text/x-python",
   "name": "python",
   "nbconvert_exporter": "python",
   "pygments_lexer": "ipython3",
   "version": "3.8.11"
  }
 },
 "nbformat": 4,
 "nbformat_minor": 5
}
