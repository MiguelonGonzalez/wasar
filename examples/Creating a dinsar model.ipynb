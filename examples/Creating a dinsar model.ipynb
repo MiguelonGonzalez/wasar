{
 "cells": [
  {
   "cell_type": "markdown",
   "id": "1636b8fe",
   "metadata": {},
   "source": [
    "---------------------------------------------------------------------------------------------------------------------------\n",
    "Este tutorial se apoya en el modelo de ejemplo que provee `dinsar`, el cual está construido a partir de conjuntos de datos reales públicos de una pequeña zona cercana al Parque Nacional de Doñana. Se puede acceder al modelo a través de `dinsar.example.get_model()` y a las rutas relativas a los datos, mediante `dinsar.example.get_path()`.\n",
    "Para más información sobre el origen de los datos, consulta el fichero *Data Sources.txt*, albergado en la misma carpeta que este tutorial.\n",
    "\n",
    "Para **más información** sobre el uso de cualquier función, método, clase o módulo, utiliza el método `help` para acceder a su documentación:\n",
    "\n",
    "`>>> help(dinsar.parts)` o bien presione la tecla del **tabulador** en Jupyter Notebook para acceder a los métodos de un objeto.\n",
    "\n",
    "---------------------------------------------------------------------------------------------------------------------------\n",
    "\n",
    "## 1. Model creation\n",
    "Las funcionalidades del programa giran en torno a un **modelo** de datos, el cual incluirá todos los conjuntos de datos DInSAR y bases de datos que se consultar en la zona de estudio, así como permitirá acceder a la mayor parte de las funciones del programa.\n",
    "\n",
    "Este modelo se crea a través de la clase `Model` y, puesto que la manera más sencilla de analizar los puntos de deformación (persistent or permanent scatterers; PS) es mediante su **agregación en polígonos**, la construcción de esta clase requiere de un archivo espacial de tipo poligonal, introducido como la ruta relativa a su ubicación. De esta manera, cada uno de estos polígonos definirá las distintas áreas de análisis del modelo, también conocidas como [ADA's](https://open.igme.es/xmlui/bitstream/handle/20.500.12468/708/fast_detection_ground_2017.pdf?sequence=1) (Active Deformation Areas), en adelante llamadas como *agregados*.\n",
    "\n",
    "Aunque la correcta generación de estos agregados requiere de la aplicación de técnicas específicas de agregación de puntos, una forma sencilla de generar esta capa de polígonos es a través de la herramienta 'Aggregate Points', de QGIS"
   ]
  },
  {
   "cell_type": "code",
   "execution_count": 1,
   "id": "e4396103",
   "metadata": {},
   "outputs": [],
   "source": [
    "import dinsar\n",
    "\n",
    "fname = dinsar.example.get_path('agregados')\n",
    "Doñana = dinsar.Model(fname)"
   ]
  },
  {
   "cell_type": "markdown",
   "id": "901db874",
   "metadata": {},
   "source": [
    "## 2. Definition of Model's parts\n",
    "\n",
    "Una vez definido el Modelo de la zona, la siguiente operación a realizar consiste en la definición de las **partes** que lo componene. Existen cuatro tipos posibles de partes, siendo cada una de ellas un objeto distinto, y encontrándose intensamente explicadas en su documentación. Ejemplo: ver `Dataset?`\n",
    "\n",
    "    . Dataset\n",
    "    . Piezometria\n",
    "    . Precipitacion\n",
    "    . DataBase\n",
    "    \n",
    "Mientras que la clase `Dataset` alberga un conjunto de datos DInSAR, el resto de clases representan base de datos, las cuales pueden tener información espacial asociado o no. Entre estas últimas, `Piezometria` y `Precipitacion` están diseñadas especialmente para albergar bases de datos piezométricas y pluviométricas, respectivamente, introduciéndose datos de cualquier otra naturaleza a través de la clase `DataBase`.\n",
    "\n",
    "Se pueden definir y añadir al modelo tantas partes como se desee, requieriendo la construcción de cada una de ellas la ruta de acceso a la ubicación del archivo, así como el nombre con el que se referirán, el color con el que se visualizrá su contenido u otras opciones (ver **kwargs de cada función).\n",
    "\n",
    "### DInSAR datasets definition:   "
   ]
  },
  {
   "cell_type": "code",
   "execution_count": 3,
   "id": "15e320f1",
   "metadata": {},
   "outputs": [],
   "source": [
    "# Defining Ascending Track (called 'Asc') of Sentinel DInSAR dataset.\n",
    "fname_1 = dinsar.example.get_path('sentinel-asc')\n",
    "Asc = dinsar.Dataset(fname_1, name='Asc', color='#99F550')\n",
    "\n",
    "# Defining Descending Track (alias, 'Desc') of Sentinel DInSAR dataset.\n",
    "fname_2 = dinsar.example.get_path('sentinel-desc')\n",
    "Desc = dinsar.Dataset(fname_2, name='Desc', color='#FBA608')"
   ]
  },
  {
   "cell_type": "markdown",
   "id": "9fadcf6e",
   "metadata": {},
   "source": [
    "Las partes que no son `Dataset` pueden tener **información espacial** asociada o no. Ésta se introduce a través del método `Part.append_geometry`, y su correcto funcionamiento requiere que se traten a los sensores exactamente con el mismo nombre que vincula en la base de datos."
   ]
  },
  {
   "cell_type": "markdown",
   "id": "c1fedef5",
   "metadata": {},
   "source": [
    "###  Piezometry and Rainfall databases"
   ]
  },
  {
   "cell_type": "code",
   "execution_count": null,
   "id": "ed2e17e0",
   "metadata": {},
   "outputs": [],
   "source": [
    "# Defining piezometry database (called 'Piezo_bbdd'), with other arguments ('sep')\n",
    "# passed in this case to pd.read_file function.\n",
    "fname = dinsar.example.get_path('piezometria_bd')\n",
    "bbdd = dinsar.Piezometria(fname, alias='Piezo_bbdd', sep='\\t')\n",
    "\n",
    "# Adding spatial data to 'Piezo_bbdd'\n",
    "shp_fname = dinsar.example.get_path('piezometria_shp')\n",
    "bbdd.append_geometry(shp_fname)\n",
    "\n",
    "#***************************************************************************************************************************\n",
    "fname = dinsar.example.get_path('precipitacion_bd')\n",
    "precipi = dinsar.Precipitacion(fname, alias='P', sep='\\t')\n",
    "\n",
    "shp_precipi = dinsar.example.get_path('precipitacion_shp')\n",
    "precipi.append_geometry(shp_precipi)"
   ]
  },
  {
   "cell_type": "code",
   "execution_count": null,
   "id": "eaab836a",
   "metadata": {},
   "outputs": [],
   "source": [
    "## 3. Adding parts to Model"
   ]
  },
  {
   "cell_type": "code",
   "execution_count": null,
   "id": "bd92e051",
   "metadata": {},
   "outputs": [],
   "source": [
    "Doñana.append(Asc)      # Ascending 2014-2020\n",
    "Doñana.append(Desc)     # Descending 2017-2020\n",
    "Doñana.append(bbdd) # Piezometría (bbdd_wavelets)\n",
    "Doñana.append(precipi)  # Precipitación (Junta de Andalucía)"
   ]
  },
  {
   "cell_type": "markdown",
   "id": "d93bd9c2",
   "metadata": {},
   "source": [
    "## Otra manera rápida de definición del modelo de ejemplo (nuevo)"
   ]
  },
  {
   "cell_type": "code",
   "execution_count": null,
   "id": "462d0581",
   "metadata": {
    "scrolled": true
   },
   "outputs": [],
   "source": [
    "Doñana = dinsar.example.get_model()"
   ]
  },
  {
   "cell_type": "markdown",
   "id": "70be874f",
   "metadata": {},
   "source": [
    "## Funcionalidades varias:"
   ]
  },
  {
   "cell_type": "code",
   "execution_count": null,
   "id": "12e4fe0b",
   "metadata": {},
   "outputs": [],
   "source": [
    "Doñana.study(2).plot() # Plotear las series temporales del agregado 2"
   ]
  },
  {
   "cell_type": "code",
   "execution_count": null,
   "id": "f1aa16cd",
   "metadata": {
    "scrolled": true
   },
   "outputs": [],
   "source": [
    "Doñana.study(2).mapa() # Representar espacialmente el agregado 2 y sus PS."
   ]
  },
  {
   "cell_type": "code",
   "execution_count": null,
   "id": "61066afc",
   "metadata": {},
   "outputs": [],
   "source": [
    " # Cojo los cinco primeros PS del Dataset 'Ascending' (dessde fuera del modelo ) y calculo su deformación promedio\n",
    "ps = Asc.ps[0:5] \n",
    "Asc.subset(ps).plot(plot_average=True)"
   ]
  },
  {
   "cell_type": "code",
   "execution_count": null,
   "id": "54306d5f",
   "metadata": {},
   "outputs": [],
   "source": [
    "# Cojo el primer piezómetro de la base de datos de piezometría y ploteo su serie temporal\n",
    "piezo = bbdd.piezos[0]\n",
    "bbdd.plot(piezo)\n",
    "\n",
    "# A través del método 'take' accedo al array con su serie tempral: --> bbdd.take(piezo)"
   ]
  },
  {
   "cell_type": "code",
   "execution_count": null,
   "id": "53466412",
   "metadata": {},
   "outputs": [],
   "source": [
    "# Selecciono la estación de Almonte y ploteo su serie temporal según su desviación acumulada\n",
    "# Puedo ver qué estaciones hay en la base de datos así: --> precipi.estaciones\n",
    "precipi.plot('Almonte', values='dsv')"
   ]
  },
  {
   "cell_type": "code",
   "execution_count": null,
   "id": "7f289bbb",
   "metadata": {},
   "outputs": [],
   "source": [
    "precipi.estaciones"
   ]
  }
 ],
 "metadata": {
  "kernelspec": {
   "display_name": "Python 3 (ipykernel)",
   "language": "python",
   "name": "python3"
  },
  "language_info": {
   "codemirror_mode": {
    "name": "ipython",
    "version": 3
   },
   "file_extension": ".py",
   "mimetype": "text/x-python",
   "name": "python",
   "nbconvert_exporter": "python",
   "pygments_lexer": "ipython3",
   "version": "3.8.11"
  }
 },
 "nbformat": 4,
 "nbformat_minor": 5
}
