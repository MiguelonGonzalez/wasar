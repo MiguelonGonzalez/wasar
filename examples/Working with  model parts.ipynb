{
 "cells": [
  {
   "cell_type": "markdown",
   "id": "0aeffce0",
   "metadata": {},
   "source": [
    "---------------------------------------------------------------------------------------------------------------------------\n",
    "This tutorial relies on the example model provided by `dinsar`, which is built from real public datasets belonging to a small area near the Doñana National Park (southern Spain). The model can be accessed directly through  `dinsar.example.get_model()` and the relative paths to the data, through `dinsar.example.get_path()`.\n",
    "For more information about the data sources, see the file *Data Sources.txt*, located in the same folder as this tutorial.\n",
    "\n",
    "Fore **more information** about the use of any function, method, class o moduel, use `help` bult-in (or `?`) to acces its documentation:\n",
    "\n",
    "`>>> help(dinsar.parts)` or press the **tabulator** key in Jupyter Notebook to access an object's methods.\n",
    "\n",
    "---------------------------------------------------------------------------------------------------------------------------\n",
    "\n",
    "<h1><center>Working with  model parts</center></h1>\n",
    "\n",
    "tal y como se mencionó en el tutorial *Creating a dinsar model*, el Modelo de dinsar requiere de la adición de información para su correcto funcionamiento. A esta información nos referimos como las partes del modelo, y a través de ellas se introducen los datasets DInSAR (`Dataset` class) y las bases de datos de la zona (`Piezometria`, `Precipitacion` and `DataBase` classes). Among the latter, `Piezometria` and `Precipitacion` are specially designed to host piezometric and pluviometric databases, respectively, with data of any other nature being introduced through the `DataBase` class.\n",
    "\n",
    "Todas las partes del modelo derivan de una clase común que permite acceder a características como el nombre de la parte (`name`), su unidad de medida (`units`) o, en caso de tener información espacial asociada (posible caso de las bases de datos), consultar la capa de los puntos (`gdf`; o un único punto: `take_point`), obtener las coordenadas de un sensor en concreto (`xy`) o seleccionar los sensores más cercanos a una ubicación determinada (`find_element`).\n",
    "\n",
    "Puesto que la clase `Dataset` requiere de un archivo espacial para su construcción, estos últimos métodos espaciales siempre estarán disponibles. En el caso de las bases de datos, el uso de estos método requerirá la previa adición de información espacial a la parte a través de `append_geometry`. Se puede consultar si una parte tiene información espacial asociada a través de `has_geometry`.\n",
    "\n",
    "Las partes se añaden al modelo a través de una relación de asociación. De esta manera, éstas se pueden manejar o bien desde fuera del modelo o a través del mismo. En este último caso, se realiza a través del método `get`.\n",
    "\n",
    "## Obtaining information of one sensor\n",
    "\n",
    "Los métodos `take_point`, `take` y `subset` permiten obtener información de uno o varios sensores. Las tres funciones presentan un único argumento de entrada ('points'), a través del cual se indica el nombre del sensor (como cadena de texto) o de los sensores (como lista de cadenas de texto) de los que se desea obtener información.\n",
    "\n",
    "Se pueden consultar los sensores (o puntos) de cada parte a través del método `puntos` para la clase `Dataset` y `elementos` para las bases de datos. En estas últimas, en las de tipo `Piezometria` y `Precipitacion` también se puede acceder a ellos a través de los métodos `piezos` y `estaciones`, respectivamente.\n",
    "\n",
    "- El método `take_point` permite obtener el geopandas.GeoDataFrame del sensor deseado (consulta [aquí](https://geopandas.org/en/stable/docs/reference/api/geopandas.GeoDataFrame.html) todas las funcionalidades de este objeto)."
   ]
  },
  {
   "cell_type": "code",
   "execution_count": null,
   "id": "5b7c2408",
   "metadata": {},
   "outputs": [],
   "source": [
    "Doñana.get('P').take_point(['Almonte', 'Niebla'])"
   ]
  },
  {
   "cell_type": "code",
   "execution_count": null,
   "id": "f7450f82",
   "metadata": {},
   "outputs": [],
   "source": [
    "- El método `take` permite obtener las series temporales de los sensores, y únicamente está disponible para las clases de las bases de datos."
   ]
  },
  {
   "cell_type": "code",
   "execution_count": null,
   "id": "612d5a52",
   "metadata": {},
   "outputs": [],
   "source": []
  },
  {
   "cell_type": "code",
   "execution_count": null,
   "id": "c1875901",
   "metadata": {},
   "outputs": [],
   "source": [
    "- El método `subset` solo funciona para la clases Dataset"
   ]
  },
  {
   "cell_type": "code",
   "execution_count": 1,
   "id": "37fef053",
   "metadata": {
    "collapsed": true
   },
   "outputs": [
    {
     "ename": "NameError",
     "evalue": "name 'Asc' is not defined",
     "output_type": "error",
     "traceback": [
      "\u001b[1;31m---------------------------------------------------------------------------\u001b[0m",
      "\u001b[1;31mNameError\u001b[0m                                 Traceback (most recent call last)",
      "\u001b[1;32m~\\AppData\\Local\\Temp/ipykernel_6772/1541243001.py\u001b[0m in \u001b[0;36m<module>\u001b[1;34m\u001b[0m\n\u001b[0;32m      1\u001b[0m \u001b[1;31m# Cojo los cinco primeros PS del Dataset 'Ascending' (dessde fuera del modelo ) y calculo su deformación promedio\u001b[0m\u001b[1;33m\u001b[0m\u001b[1;33m\u001b[0m\u001b[1;33m\u001b[0m\u001b[0m\n\u001b[1;32m----> 2\u001b[1;33m \u001b[0mps\u001b[0m \u001b[1;33m=\u001b[0m \u001b[0mAsc\u001b[0m\u001b[1;33m.\u001b[0m\u001b[0mps\u001b[0m\u001b[1;33m[\u001b[0m\u001b[1;36m0\u001b[0m\u001b[1;33m:\u001b[0m\u001b[1;36m5\u001b[0m\u001b[1;33m]\u001b[0m\u001b[1;33m\u001b[0m\u001b[1;33m\u001b[0m\u001b[0m\n\u001b[0m\u001b[0;32m      3\u001b[0m \u001b[0mAsc\u001b[0m\u001b[1;33m.\u001b[0m\u001b[0msubset\u001b[0m\u001b[1;33m(\u001b[0m\u001b[0mps\u001b[0m\u001b[1;33m)\u001b[0m\u001b[1;33m.\u001b[0m\u001b[0mplot\u001b[0m\u001b[1;33m(\u001b[0m\u001b[0mplot_average\u001b[0m\u001b[1;33m=\u001b[0m\u001b[1;32mTrue\u001b[0m\u001b[1;33m)\u001b[0m\u001b[1;33m\u001b[0m\u001b[1;33m\u001b[0m\u001b[0m\n\u001b[0;32m      4\u001b[0m \u001b[1;33m\u001b[0m\u001b[0m\n\u001b[0;32m      5\u001b[0m \u001b[1;31m# Cojo el primer piezómetro de la base de datos de piezometría y ploteo su serie temporal\u001b[0m\u001b[1;33m\u001b[0m\u001b[1;33m\u001b[0m\u001b[1;33m\u001b[0m\u001b[0m\n",
      "\u001b[1;31mNameError\u001b[0m: name 'Asc' is not defined"
     ]
    }
   ],
   "source": [
    " # Cojo los cinco primeros PS del Dataset 'Ascending' (dessde fuera del modelo ) y calculo su deformación promedio\n",
    "ps = Asc.ps[0:5] \n",
    "Asc.subset(ps).plot(plot_average=True)\n",
    "\n",
    "# Cojo el primer piezómetro de la base de datos de piezometría y ploteo su serie temporal\n",
    "piezo = bbdd.piezos[0]\n",
    "bbdd.plot(piezo)\n",
    "\n",
    "# A través del método 'take' accedo al array con su serie tempral: --> bbdd.take(piezo)\n",
    "\n",
    "# Selecciono la estación de Almonte y ploteo su serie temporal según su desviación acumulada\n",
    "# Puedo ver qué estaciones hay en la base de datos así: --> precipi.estaciones\n",
    "precipi.plot('Almonte', values='dsv')\n",
    "\n",
    "precipi.estaciones"
   ]
  },
  {
   "cell_type": "code",
   "execution_count": 1,
   "id": "01ef79b8",
   "metadata": {},
   "outputs": [
    {
     "name": "stdout",
     "output_type": "stream",
     "text": [
      "Geometría añadida correctamente.\n",
      "Geometría añadida correctamente.\n"
     ]
    }
   ],
   "source": [
    "import dinsar\n",
    "\n",
    "Doñana = dinsar.example.get_model()"
   ]
  },
  {
   "cell_type": "code",
   "execution_count": 5,
   "id": "9d9a71db",
   "metadata": {},
   "outputs": [
    {
     "data": {
      "text/html": [
       "<div>\n",
       "<style scoped>\n",
       "    .dataframe tbody tr th:only-of-type {\n",
       "        vertical-align: middle;\n",
       "    }\n",
       "\n",
       "    .dataframe tbody tr th {\n",
       "        vertical-align: top;\n",
       "    }\n",
       "\n",
       "    .dataframe thead th {\n",
       "        text-align: right;\n",
       "    }\n",
       "</style>\n",
       "<table border=\"1\" class=\"dataframe\">\n",
       "  <thead>\n",
       "    <tr style=\"text-align: right;\">\n",
       "      <th></th>\n",
       "      <th>ID</th>\n",
       "      <th>Lat</th>\n",
       "      <th>Lon</th>\n",
       "      <th>Topo</th>\n",
       "      <th>Vel</th>\n",
       "      <th>Coer</th>\n",
       "      <th>cosN</th>\n",
       "      <th>cosE</th>\n",
       "      <th>cosU</th>\n",
       "      <th>geometry</th>\n",
       "      <th>Dataset</th>\n",
       "      <th>Color</th>\n",
       "    </tr>\n",
       "  </thead>\n",
       "  <tbody>\n",
       "    <tr>\n",
       "      <th>0</th>\n",
       "      <td>352866</td>\n",
       "      <td>37.261</td>\n",
       "      <td>-6.431</td>\n",
       "      <td>118.45</td>\n",
       "      <td>-0.630</td>\n",
       "      <td>0.894</td>\n",
       "      <td>-0.11</td>\n",
       "      <td>0.650</td>\n",
       "      <td>0.752</td>\n",
       "      <td>MULTIPOINT (195699.600 4129374.811)</td>\n",
       "      <td>Asc</td>\n",
       "      <td>#99F550</td>\n",
       "    </tr>\n",
       "    <tr>\n",
       "      <th>1</th>\n",
       "      <td>352918</td>\n",
       "      <td>37.258</td>\n",
       "      <td>-6.433</td>\n",
       "      <td>116.88</td>\n",
       "      <td>-0.825</td>\n",
       "      <td>0.880</td>\n",
       "      <td>-0.11</td>\n",
       "      <td>0.650</td>\n",
       "      <td>0.752</td>\n",
       "      <td>MULTIPOINT (195538.025 4129010.588)</td>\n",
       "      <td>Asc</td>\n",
       "      <td>#99F550</td>\n",
       "    </tr>\n",
       "    <tr>\n",
       "      <th>2</th>\n",
       "      <td>353090</td>\n",
       "      <td>37.264</td>\n",
       "      <td>-6.435</td>\n",
       "      <td>125.41</td>\n",
       "      <td>-0.504</td>\n",
       "      <td>0.883</td>\n",
       "      <td>-0.11</td>\n",
       "      <td>0.651</td>\n",
       "      <td>0.751</td>\n",
       "      <td>MULTIPOINT (195339.750 4129665.728)</td>\n",
       "      <td>Asc</td>\n",
       "      <td>#99F550</td>\n",
       "    </tr>\n",
       "    <tr>\n",
       "      <th>3</th>\n",
       "      <td>353226</td>\n",
       "      <td>37.264</td>\n",
       "      <td>-6.438</td>\n",
       "      <td>123.99</td>\n",
       "      <td>-0.444</td>\n",
       "      <td>0.911</td>\n",
       "      <td>-0.11</td>\n",
       "      <td>0.651</td>\n",
       "      <td>0.751</td>\n",
       "      <td>MULTIPOINT (195117.973 4129673.793)</td>\n",
       "      <td>Asc</td>\n",
       "      <td>#99F550</td>\n",
       "    </tr>\n",
       "    <tr>\n",
       "      <th>4</th>\n",
       "      <td>353378</td>\n",
       "      <td>37.265</td>\n",
       "      <td>-6.441</td>\n",
       "      <td>126.45</td>\n",
       "      <td>-0.367</td>\n",
       "      <td>0.866</td>\n",
       "      <td>-0.11</td>\n",
       "      <td>0.651</td>\n",
       "      <td>0.751</td>\n",
       "      <td>MULTIPOINT (194825.920 4129776.667)</td>\n",
       "      <td>Asc</td>\n",
       "      <td>#99F550</td>\n",
       "    </tr>\n",
       "    <tr>\n",
       "      <th>5</th>\n",
       "      <td>353502</td>\n",
       "      <td>37.266</td>\n",
       "      <td>-6.445</td>\n",
       "      <td>130.79</td>\n",
       "      <td>-0.537</td>\n",
       "      <td>0.852</td>\n",
       "      <td>-0.11</td>\n",
       "      <td>0.651</td>\n",
       "      <td>0.751</td>\n",
       "      <td>MULTIPOINT (194537.272 4129972.785)</td>\n",
       "      <td>Asc</td>\n",
       "      <td>#99F550</td>\n",
       "    </tr>\n",
       "  </tbody>\n",
       "</table>\n",
       "</div>"
      ],
      "text/plain": [
       "       ID     Lat    Lon    Topo    Vel   Coer  cosN   cosE   cosU  \\\n",
       "0  352866  37.261 -6.431  118.45 -0.630  0.894 -0.11  0.650  0.752   \n",
       "1  352918  37.258 -6.433  116.88 -0.825  0.880 -0.11  0.650  0.752   \n",
       "2  353090  37.264 -6.435  125.41 -0.504  0.883 -0.11  0.651  0.751   \n",
       "3  353226  37.264 -6.438  123.99 -0.444  0.911 -0.11  0.651  0.751   \n",
       "4  353378  37.265 -6.441  126.45 -0.367  0.866 -0.11  0.651  0.751   \n",
       "5  353502  37.266 -6.445  130.79 -0.537  0.852 -0.11  0.651  0.751   \n",
       "\n",
       "                              geometry Dataset    Color  \n",
       "0  MULTIPOINT (195699.600 4129374.811)     Asc  #99F550  \n",
       "1  MULTIPOINT (195538.025 4129010.588)     Asc  #99F550  \n",
       "2  MULTIPOINT (195339.750 4129665.728)     Asc  #99F550  \n",
       "3  MULTIPOINT (195117.973 4129673.793)     Asc  #99F550  \n",
       "4  MULTIPOINT (194825.920 4129776.667)     Asc  #99F550  \n",
       "5  MULTIPOINT (194537.272 4129972.785)     Asc  #99F550  "
      ]
     },
     "execution_count": 5,
     "metadata": {},
     "output_type": "execute_result"
    }
   ],
   "source": [
    "Doñana.get('Asc').take_point(['352866', '352918', '353090',  '353226', '353378', '353502'])"
   ]
  },
  {
   "cell_type": "code",
   "execution_count": 6,
   "id": "5cd6eedd",
   "metadata": {},
   "outputs": [
    {
     "data": {
      "text/html": [
       "<div>\n",
       "<style scoped>\n",
       "    .dataframe tbody tr th:only-of-type {\n",
       "        vertical-align: middle;\n",
       "    }\n",
       "\n",
       "    .dataframe tbody tr th {\n",
       "        vertical-align: top;\n",
       "    }\n",
       "\n",
       "    .dataframe thead th {\n",
       "        text-align: right;\n",
       "    }\n",
       "</style>\n",
       "<table border=\"1\" class=\"dataframe\">\n",
       "  <thead>\n",
       "    <tr style=\"text-align: right;\">\n",
       "      <th></th>\n",
       "      <th>Nombre</th>\n",
       "      <th>X</th>\n",
       "      <th>Y</th>\n",
       "      <th>geometry</th>\n",
       "    </tr>\n",
       "  </thead>\n",
       "  <tbody>\n",
       "    <tr>\n",
       "      <th>0</th>\n",
       "      <td>Almonte</td>\n",
       "      <td>191221.0</td>\n",
       "      <td>4116990.0</td>\n",
       "      <td>POINT (191221.000 4116990.000)</td>\n",
       "    </tr>\n",
       "    <tr>\n",
       "      <th>1</th>\n",
       "      <td>Niebla</td>\n",
       "      <td>169098.0</td>\n",
       "      <td>4139930.0</td>\n",
       "      <td>POINT (169098.000 4139930.000)</td>\n",
       "    </tr>\n",
       "  </tbody>\n",
       "</table>\n",
       "</div>"
      ],
      "text/plain": [
       "    Nombre         X          Y                        geometry\n",
       "0  Almonte  191221.0  4116990.0  POINT (191221.000 4116990.000)\n",
       "1   Niebla  169098.0  4139930.0  POINT (169098.000 4139930.000)"
      ]
     },
     "execution_count": 6,
     "metadata": {},
     "output_type": "execute_result"
    }
   ],
   "source": [
    "Doñana.get('P').take_point(['Almonte', 'Niebla'])"
   ]
  },
  {
   "cell_type": "code",
   "execution_count": 7,
   "id": "d45960d3",
   "metadata": {
    "scrolled": true
   },
   "outputs": [
    {
     "data": {
      "text/html": [
       "<div>\n",
       "<style scoped>\n",
       "    .dataframe tbody tr th:only-of-type {\n",
       "        vertical-align: middle;\n",
       "    }\n",
       "\n",
       "    .dataframe tbody tr th {\n",
       "        vertical-align: top;\n",
       "    }\n",
       "\n",
       "    .dataframe thead th {\n",
       "        text-align: right;\n",
       "    }\n",
       "</style>\n",
       "<table border=\"1\" class=\"dataframe\">\n",
       "  <thead>\n",
       "    <tr style=\"text-align: right;\">\n",
       "      <th></th>\n",
       "      <th>Nombre</th>\n",
       "      <th>X</th>\n",
       "      <th>Y</th>\n",
       "      <th>geometry</th>\n",
       "    </tr>\n",
       "  </thead>\n",
       "  <tbody>\n",
       "    <tr>\n",
       "      <th>0</th>\n",
       "      <td>104080065</td>\n",
       "      <td>185214.000000</td>\n",
       "      <td>4.138422e+06</td>\n",
       "      <td>POINT (185214.000 4138422.000)</td>\n",
       "    </tr>\n",
       "    <tr>\n",
       "      <th>1</th>\n",
       "      <td>104130038</td>\n",
       "      <td>177874.000000</td>\n",
       "      <td>4.134454e+06</td>\n",
       "      <td>POINT (177874.000 4134454.000)</td>\n",
       "    </tr>\n",
       "    <tr>\n",
       "      <th>2</th>\n",
       "      <td>104170015</td>\n",
       "      <td>173685.324284</td>\n",
       "      <td>4.120077e+06</td>\n",
       "      <td>POINT (173685.324 4120076.591)</td>\n",
       "    </tr>\n",
       "  </tbody>\n",
       "</table>\n",
       "</div>"
      ],
      "text/plain": [
       "      Nombre              X             Y                        geometry\n",
       "0  104080065  185214.000000  4.138422e+06  POINT (185214.000 4138422.000)\n",
       "1  104130038  177874.000000  4.134454e+06  POINT (177874.000 4134454.000)\n",
       "2  104170015  173685.324284  4.120077e+06  POINT (173685.324 4120076.591)"
      ]
     },
     "execution_count": 7,
     "metadata": {},
     "output_type": "execute_result"
    }
   ],
   "source": [
    "Doñana.get('Piezo_bbdd').take_point(['104080065', '104130038', '104170015'])"
   ]
  },
  {
   "cell_type": "code",
   "execution_count": 8,
   "id": "147589d6",
   "metadata": {},
   "outputs": [
    {
     "data": {
      "image/svg+xml": [
       "<svg xmlns=\"http://www.w3.org/2000/svg\" xmlns:xlink=\"http://www.w3.org/1999/xlink\" width=\"100.0\" height=\"100.0\" viewBox=\"195698.59955396818 4129373.811231148 2.0 2.0\" preserveAspectRatio=\"xMinYMin meet\"><g transform=\"matrix(1,0,0,-1,0,8258749.622462296)\"><g><circle cx=\"195699.59955396818\" cy=\"4129374.811231148\" r=\"0.06\" stroke=\"#555555\" stroke-width=\"0.02\" fill=\"#66cc99\" opacity=\"0.6\" /></g></g></svg>"
      ],
      "text/plain": [
       "<shapely.geometry.multipoint.MultiPoint at 0x2dfb5f94610>"
      ]
     },
     "execution_count": 8,
     "metadata": {},
     "output_type": "execute_result"
    }
   ],
   "source": [
    "Doñana.get('Asc').xy('352866')"
   ]
  }
 ],
 "metadata": {
  "kernelspec": {
   "display_name": "Python 3 (ipykernel)",
   "language": "python",
   "name": "python3"
  },
  "language_info": {
   "codemirror_mode": {
    "name": "ipython",
    "version": 3
   },
   "file_extension": ".py",
   "mimetype": "text/x-python",
   "name": "python",
   "nbconvert_exporter": "python",
   "pygments_lexer": "ipython3",
   "version": "3.8.11"
  }
 },
 "nbformat": 4,
 "nbformat_minor": 5
}
