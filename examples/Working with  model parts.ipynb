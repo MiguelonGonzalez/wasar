{
 "cells": [
  {
   "cell_type": "code",
   "execution_count": null,
   "id": "37fef053",
   "metadata": {},
   "outputs": [],
   "source": [
    " # Cojo los cinco primeros PS del Dataset 'Ascending' (dessde fuera del modelo ) y calculo su deformación promedio\n",
    "ps = Asc.ps[0:5] \n",
    "Asc.subset(ps).plot(plot_average=True)\n",
    "\n",
    "# Cojo el primer piezómetro de la base de datos de piezometría y ploteo su serie temporal\n",
    "piezo = bbdd.piezos[0]\n",
    "bbdd.plot(piezo)\n",
    "\n",
    "# A través del método 'take' accedo al array con su serie tempral: --> bbdd.take(piezo)\n",
    "\n",
    "# Selecciono la estación de Almonte y ploteo su serie temporal según su desviación acumulada\n",
    "# Puedo ver qué estaciones hay en la base de datos así: --> precipi.estaciones\n",
    "precipi.plot('Almonte', values='dsv')\n",
    "\n",
    "precipi.estaciones"
   ]
  }
 ],
 "metadata": {
  "kernelspec": {
   "display_name": "Python 3 (ipykernel)",
   "language": "python",
   "name": "python3"
  },
  "language_info": {
   "codemirror_mode": {
    "name": "ipython",
    "version": 3
   },
   "file_extension": ".py",
   "mimetype": "text/x-python",
   "name": "python",
   "nbconvert_exporter": "python",
   "pygments_lexer": "ipython3",
   "version": "3.8.11"
  }
 },
 "nbformat": 4,
 "nbformat_minor": 5
}
