{
 "cells": [
  {
   "cell_type": "code",
   "execution_count": null,
   "id": "8159acc0",
   "metadata": {},
   "outputs": [],
   "source": [
    "from shapely.geometry import Point\n",
    "import random\n",
    "\n",
    "x1, y1, x2, y2 = Doñana.get('Asc').gdf.total_bounds\n",
    "\n",
    "random_point = lambda x1, y1, x2, y2 : Point(random.uniform(x1, x2), random.uniform(y1, y2))\n",
    "\n",
    "# Definición de la base de datos (pandas.DataFrame):\n",
    "columns, values = [i for i in 'ABCDE'], [np.random.random(60) for i in range(5)]\n",
    "df_table = {i:j for i,j in zip(columns, values)}\n",
    "df = pd.DataFrame(df_table, index=pd.date_range(start='2015', end='2020', freq='M'))\n",
    "df = df.melt(var_name='Nombre', value_name='Valores', ignore_index=False)\n",
    "df.index.name = 'Fechas'\n",
    "df.reset_index(inplace=True)\n",
    "\n",
    "# Definición de un archivo espacial\n",
    "table = {'Nombre':[i for i in 'ABCDE'],\n",
    "         'geometry':[random_point(x1, y1, x2, y2) for i in range(5)]}\n",
    "gdf = gpd.GeoDataFrame(table, crs=25830)\n",
    "\n",
    "gps = dinsar.DataBase(df, name='gps', units='cm', color='black')\n",
    "gps.append_geometry(gdf)\n",
    "Doñana.append(gps)"
   ]
  }
 ],
 "metadata": {
  "kernelspec": {
   "display_name": "Python 3 (ipykernel)",
   "language": "python",
   "name": "python3"
  },
  "language_info": {
   "codemirror_mode": {
    "name": "ipython",
    "version": 3
   },
   "file_extension": ".py",
   "mimetype": "text/x-python",
   "name": "python",
   "nbconvert_exporter": "python",
   "pygments_lexer": "ipython3",
   "version": "3.8.11"
  }
 },
 "nbformat": 4,
 "nbformat_minor": 5
}
