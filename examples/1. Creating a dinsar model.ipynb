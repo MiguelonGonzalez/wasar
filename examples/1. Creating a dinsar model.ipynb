{
 "cells": [
  {
   "cell_type": "markdown",
   "id": "d7c7005f",
   "metadata": {},
   "source": [
    "---------------------------------------------------------------------------------------------------------------------------\n",
    "This tutorial relies on the example model provided by `wasar`, which is built from real public datasets belonging to a small area near the Doñana National Park (southern Spain). The model can be accessed directly through  `wasar.example.get_model()` and the relative paths to the data, through `wasar.example.get_path()`.\n",
    "For more information about the data sources, see the file *Data Sources.txt*, located in the same folder as this tutorial.\n",
    "\n",
    "Fore **more information** about the use of any function, method, class o moduel, use `help` bult-in (or `?`) to acces its documentation:\n",
    "\n",
    "`>>> help(wasar.parts)` or press the **tabulator** key in Jupyter Notebook to access an object's methods.\n",
    "\n",
    "---------------------------------------------------------------------------------------------------------------------------\n",
    "\n",
    "<h1><center>Creating a wasar Model</center></h1>\n",
    "\n",
    "## 1. Creation of a Model\n",
    "The wasar package design holds a data **model** as the main object around which all of the program functionalities spin around. This model will include all the DInSAR datasets and databases that are consulted in the study area and is created through the `Model` class. Since the simplest way of analyzing DInSAR deformation points (also called persistent or permanent scatterers; PS) is through their **aggregation into polygons**, the initialization of this class requieres a polygonal spatial file, that should be introduced as a relative path to its ubication. This way, each of these polygons will define the different analysis areas of the model -analogous to [ADA's](https://open.igme.es/xmlui/bitstream/handle/20.500.12468/708/fast_detection_ground_2017.pdf?sequence=1) (Active Deformation Areas), called in the code as **agregados** and hereinafter as *aggregates*.\n",
    "\n",
    "Althoug the correct generation of this aggregates requiere the application of specific point aggregation techniques, a simple way to generate this layer of polygons is through the 'Aggregate Points' tool of QGIS."
   ]
  },
  {
   "cell_type": "code",
   "execution_count": 1,
   "id": "c05a8e53",
   "metadata": {},
   "outputs": [],
   "source": [
    "import wasar\n",
    "\n",
    "fname = wasar.example.get_path('agregados')\n",
    "Doñana = wasar.Model(fname, epsg=25830)"
   ]
  },
  {
   "cell_type": "markdown",
   "id": "835ae9d7",
   "metadata": {},
   "source": [
    "You can specify the CRS (**Coordinate Reference System**) number of the layer through the `epsg` argument of the class. That CRS will be considered as the project one, and any layer with a different CRS that is added to the model will be reprojected to that.\n",
    "\n",
    "It's possile to see the current project CRS through `crs` method. Also, the project's CRS can be changed through the `reproject` method, which will reproject all model's layers to the indicated CRS."
   ]
  },
  {
   "cell_type": "code",
   "execution_count": 2,
   "id": "b208c1e9",
   "metadata": {
    "scrolled": true
   },
   "outputs": [
    {
     "data": {
      "text/plain": [
       "<Projected CRS: PROJCS[\"ETRS89_UTM_zone_30N\",GEOGCS[\"ETRS89\",DATUM ...>\n",
       "Name: ETRS89_UTM_zone_30N\n",
       "Axis Info [cartesian]:\n",
       "- [east]: Easting (metre)\n",
       "- [north]: Northing (metre)\n",
       "Area of Use:\n",
       "- undefined\n",
       "Coordinate Operation:\n",
       "- name: UTM zone 30N\n",
       "- method: Transverse Mercator\n",
       "Datum: European Terrestrial Reference System 1989\n",
       "- Ellipsoid: GRS 1980\n",
       "- Prime Meridian: Greenwich"
      ]
     },
     "execution_count": 2,
     "metadata": {},
     "output_type": "execute_result"
    }
   ],
   "source": [
    "Doñana.crs"
   ]
  },
  {
   "cell_type": "markdown",
   "id": "c8239fd8",
   "metadata": {},
   "source": [
    "## 2. Definition of Model's parts\n",
    "\n",
    "Once the Model of the zone has been created, the next operation to be performed is the definition of the **parts** that will compose it. There are four possible types of parts, each one of them being a different object, and being intensively explained in its documentation. Example: see `Dataset?`.\n",
    "\n",
    "- `Dataset`\n",
    "\n",
    "- `Piezometria`\n",
    "\n",
    "- `Precipitacion`\n",
    "\n",
    "- `DataBase`\n",
    "\n",
    "While the `Dataset` class hosts a DInSAR dataset, the rest of the classes represent databases, which may have associated spatial information. Among the latter, `Piezometria` and `Precipitacion` are specially designed to host piezometric and pluviometric databases, respectively, with data of any other nature being introduced through the `DataBase` class.\n",
    "\n",
    "As many parts as desired can be defined and added to the model, requiring in the instantialization of each of them the path to the file location, as well as the name with which they will be referred to, the units with which the axes will be labeled, the color with which their content will be displayed or other options (see \\*\\*kwargs of each function).\n",
    "\n",
    "### DInSAR datasets definition:   "
   ]
  },
  {
   "cell_type": "code",
   "execution_count": 3,
   "id": "15e320f1",
   "metadata": {},
   "outputs": [],
   "source": [
    "# Defining Ascending Track (called 'Asc') of Sentinel DInSAR dataset.\n",
    "fname_1 = wasar.example.get_path('sentinel-asc')\n",
    "Asc = wasar.Dataset(fname_1, name='Asc', color='#99F550')\n",
    "\n",
    "# Defining Descending Track (alias, 'Desc') of Sentinel DInSAR dataset.\n",
    "fname_2 = wasar.example.get_path('sentinel-desc')\n",
    "Desc = wasar.Dataset(fname_2, name='Desc', color='#FBA608')"
   ]
  },
  {
   "cell_type": "markdown",
   "id": "c1fedef5",
   "metadata": {},
   "source": [
    "###  Piezometry and Rainfall databases"
   ]
  },
  {
   "cell_type": "code",
   "execution_count": 4,
   "id": "ed2e17e0",
   "metadata": {},
   "outputs": [
    {
     "name": "stdout",
     "output_type": "stream",
     "text": [
      "Geometría añadida correctamente.\n",
      "Geometría añadida correctamente.\n"
     ]
    }
   ],
   "source": [
    "# Defining piezometry database (called 'Piezo_bbdd'), with other arguments ('sep')\n",
    "# passed in this case to pd.read_file function.\n",
    "fname = wasar.example.get_path('piezometria_bd')\n",
    "piezo = wasar.Piezometria(fname, name='Piezo_bbdd', sep='\\t')\n",
    "\n",
    "# Adding spatial data to 'Piezo_bbdd'\n",
    "shp_fname = wasar.example.get_path('piezometria_shp')\n",
    "piezo.append_geometry(shp_fname)\n",
    "\n",
    "#***************************************************************************************************************************\n",
    "# Defining pluviometric database (called 'P'), with other arguments ('sep')\n",
    "# passed in this case to pd.read_file function.\n",
    "fname = wasar.example.get_path('precipitacion_bd')\n",
    "precipi = wasar.Precipitacion(fname, name='P', sep='\\t')\n",
    "\n",
    "# Adding spatial data to 'P'\n",
    "shp_precipi = wasar.example.get_path('precipitacion_shp')\n",
    "precipi.append_geometry(shp_precipi)"
   ]
  },
  {
   "cell_type": "markdown",
   "id": "2db69b13",
   "metadata": {},
   "source": [
    "To add spatial information to a Part (only for none `Dataset` type ones) you can simply do it through `append_geometry` method. Its correct perform requires the sensors to be named with exactly the same name that it binds in the database."
   ]
  },
  {
   "cell_type": "markdown",
   "id": "8fcede6d",
   "metadata": {},
   "source": [
    "## 3. Adding parts to the Model\n",
    "\n",
    "Now all the created parts have to be added to the model, operation that is done through the `append` method, a function of `Model` that returns None."
   ]
  },
  {
   "cell_type": "code",
   "execution_count": 5,
   "id": "bd92e051",
   "metadata": {},
   "outputs": [
    {
     "data": {
      "text/plain": [
       "[None, None, None, None]"
      ]
     },
     "execution_count": 5,
     "metadata": {},
     "output_type": "execute_result"
    }
   ],
   "source": [
    "parts = [Asc, Desc, piezo, precipi]\n",
    "\n",
    "[Doñana.append(i) for i in parts]"
   ]
  },
  {
   "cell_type": "markdown",
   "id": "d93bd9c2",
   "metadata": {},
   "source": [
    "The creation of this **example model** can also be done **quickly** in the following way, which will be used in the rest of the tutorials, as well as in the code examples:\n",
    "\n",
    "> `Doñana = wasar.example.get_model()`"
   ]
  },
  {
   "cell_type": "markdown",
   "id": "8047c8a6",
   "metadata": {},
   "source": [
    "While the PS that make up the DInSAR datasets added to the model are **cut** to the aggregates extension, the rest of the parts remain unchanged when they are added to the model. Thus, if after adding the parts to the model you want to work with the datasets individually, you can access them simply through the created object or through the `get` method of the model. In the latter case, keep in mind that it will hosts only the PS located within the aggregates.\n",
    "\n",
    "For the rest of the databases (`Piezometria`, `Precipitacion` and `DataBase`) it is indifferent to do it one way or another. Example:"
   ]
  },
  {
   "cell_type": "markdown",
   "id": "6a666bb5",
   "metadata": {},
   "source": [
    "## 4. Accesing model information"
   ]
  },
  {
   "cell_type": "markdown",
   "id": "a482f089",
   "metadata": {},
   "source": [
    "The following methods allow acces to **model features**:\n",
    "\n",
    "- `agregados` Returns a list with the model aggregates.\n",
    "\n",
    "- `datasets` Returns a list with the model DInSAR datasets.\n",
    "\n",
    "- `piezo_bds` Returns a list with the model piezometry databases.\n",
    "\n",
    "- `precipi_bds` Returns a list with the model rainfall databases.\n",
    "\n",
    "- `other_bds` Returns a list with the model databases of other nature.\n",
    "\n",
    "It is also possible to print all model information through `info` method."
   ]
  },
  {
   "cell_type": "code",
   "execution_count": 6,
   "id": "e70031cd",
   "metadata": {
    "scrolled": true
   },
   "outputs": [
    {
     "name": "stdout",
     "output_type": "stream",
     "text": [
      ". \u001b[1mA-DInSAR datasets\u001b[0m: Asc, Desc\n",
      ". \u001b[1mBd Piezometría\u001b[0m: Piezo_bbdd\n",
      ". \u001b[1mBd Precipitación\u001b[0m: P\n",
      ". \u001b[1mOtras Bd\u001b[0m: \n",
      ". \u001b[1mNº Agregados\u001b[0m: 5\n",
      ". Sistema de Referencia de Coordenadas del Proyecto' (\u001b[1mSRC\u001b[0m):            ETRS89_UTM_zone_30N\n",
      ". Todas las capas presentan el \u001b[1mmismo SRC\u001b[0m: True\n"
     ]
    }
   ],
   "source": [
    "Doñana.info"
   ]
  },
  {
   "cell_type": "markdown",
   "id": "2b334d20",
   "metadata": {},
   "source": [
    "## 5. Main functions of Model object:\n",
    "\n",
    "Among the main functions of `model` object is the `aggregate` function, which allows to **analyze** one or more of the **aggregates** in the model. You can find a more detailed explanation of its use in the tutorial *Studying an aggregate*.\n",
    "\n",
    "Other functions are `byBatch`, which **automatically** analyzes a **set of aggregates** and saves all the information generated in a folder; and `map`, which generates a map with the aggregates of the model."
   ]
  },
  {
   "cell_type": "code",
   "execution_count": 7,
   "id": "dd519337",
   "metadata": {},
   "outputs": [
    {
     "data": {
      "text/html": [
       "<div style=\"width:100%;\"><div style=\"position:relative;width:100%;height:0;padding-bottom:60%;\"><span style=\"color:#565656\">Make this Notebook Trusted to load map: File -> Trust Notebook</span><iframe src=\"about:blank\" style=\"position:absolute;width:100%;height:100%;left:0;top:0;border:none !important;\" data-html=%3C%21DOCTYPE%20html%3E%0A%3Chead%3E%20%20%20%20%0A%20%20%20%20%3Cmeta%20http-equiv%3D%22content-type%22%20content%3D%22text/html%3B%20charset%3DUTF-8%22%20/%3E%0A%20%20%20%20%0A%20%20%20%20%20%20%20%20%3Cscript%3E%0A%20%20%20%20%20%20%20%20%20%20%20%20L_NO_TOUCH%20%3D%20false%3B%0A%20%20%20%20%20%20%20%20%20%20%20%20L_DISABLE_3D%20%3D%20false%3B%0A%20%20%20%20%20%20%20%20%3C/script%3E%0A%20%20%20%20%0A%20%20%20%20%3Cstyle%3Ehtml%2C%20body%20%7Bwidth%3A%20100%25%3Bheight%3A%20100%25%3Bmargin%3A%200%3Bpadding%3A%200%3B%7D%3C/style%3E%0A%20%20%20%20%3Cstyle%3E%23map%20%7Bposition%3Aabsolute%3Btop%3A0%3Bbottom%3A0%3Bright%3A0%3Bleft%3A0%3B%7D%3C/style%3E%0A%20%20%20%20%3Cscript%20src%3D%22https%3A//cdn.jsdelivr.net/npm/leaflet%401.6.0/dist/leaflet.js%22%3E%3C/script%3E%0A%20%20%20%20%3Cscript%20src%3D%22https%3A//code.jquery.com/jquery-1.12.4.min.js%22%3E%3C/script%3E%0A%20%20%20%20%3Cscript%20src%3D%22https%3A//maxcdn.bootstrapcdn.com/bootstrap/3.2.0/js/bootstrap.min.js%22%3E%3C/script%3E%0A%20%20%20%20%3Cscript%20src%3D%22https%3A//cdnjs.cloudflare.com/ajax/libs/Leaflet.awesome-markers/2.0.2/leaflet.awesome-markers.js%22%3E%3C/script%3E%0A%20%20%20%20%3Clink%20rel%3D%22stylesheet%22%20href%3D%22https%3A//cdn.jsdelivr.net/npm/leaflet%401.6.0/dist/leaflet.css%22/%3E%0A%20%20%20%20%3Clink%20rel%3D%22stylesheet%22%20href%3D%22https%3A//maxcdn.bootstrapcdn.com/bootstrap/3.2.0/css/bootstrap.min.css%22/%3E%0A%20%20%20%20%3Clink%20rel%3D%22stylesheet%22%20href%3D%22https%3A//maxcdn.bootstrapcdn.com/bootstrap/3.2.0/css/bootstrap-theme.min.css%22/%3E%0A%20%20%20%20%3Clink%20rel%3D%22stylesheet%22%20href%3D%22https%3A//maxcdn.bootstrapcdn.com/font-awesome/4.6.3/css/font-awesome.min.css%22/%3E%0A%20%20%20%20%3Clink%20rel%3D%22stylesheet%22%20href%3D%22https%3A//cdnjs.cloudflare.com/ajax/libs/Leaflet.awesome-markers/2.0.2/leaflet.awesome-markers.css%22/%3E%0A%20%20%20%20%3Clink%20rel%3D%22stylesheet%22%20href%3D%22https%3A//cdn.jsdelivr.net/gh/python-visualization/folium/folium/templates/leaflet.awesome.rotate.min.css%22/%3E%0A%20%20%20%20%0A%20%20%20%20%20%20%20%20%20%20%20%20%3Cmeta%20name%3D%22viewport%22%20content%3D%22width%3Ddevice-width%2C%0A%20%20%20%20%20%20%20%20%20%20%20%20%20%20%20%20initial-scale%3D1.0%2C%20maximum-scale%3D1.0%2C%20user-scalable%3Dno%22%20/%3E%0A%20%20%20%20%20%20%20%20%20%20%20%20%3Cstyle%3E%0A%20%20%20%20%20%20%20%20%20%20%20%20%20%20%20%20%23map_2d67af05160f4c21926eca8f0c1be9e8%20%7B%0A%20%20%20%20%20%20%20%20%20%20%20%20%20%20%20%20%20%20%20%20position%3A%20relative%3B%0A%20%20%20%20%20%20%20%20%20%20%20%20%20%20%20%20%20%20%20%20width%3A%20100.0%25%3B%0A%20%20%20%20%20%20%20%20%20%20%20%20%20%20%20%20%20%20%20%20height%3A%20100.0%25%3B%0A%20%20%20%20%20%20%20%20%20%20%20%20%20%20%20%20%20%20%20%20left%3A%200.0%25%3B%0A%20%20%20%20%20%20%20%20%20%20%20%20%20%20%20%20%20%20%20%20top%3A%200.0%25%3B%0A%20%20%20%20%20%20%20%20%20%20%20%20%20%20%20%20%7D%0A%20%20%20%20%20%20%20%20%20%20%20%20%3C/style%3E%0A%20%20%20%20%20%20%20%20%0A%20%20%20%20%0A%20%20%20%20%20%20%20%20%20%20%20%20%20%20%20%20%20%20%20%20%3Cstyle%3E%0A%20%20%20%20%20%20%20%20%20%20%20%20%20%20%20%20%20%20%20%20%20%20%20%20.foliumtooltip%20%7B%0A%20%20%20%20%20%20%20%20%20%20%20%20%20%20%20%20%20%20%20%20%20%20%20%20%20%20%20%20%0A%20%20%20%20%20%20%20%20%20%20%20%20%20%20%20%20%20%20%20%20%20%20%20%20%7D%0A%20%20%20%20%20%20%20%20%20%20%20%20%20%20%20%20%20%20%20%20%20%20%20.foliumtooltip%20table%7B%0A%20%20%20%20%20%20%20%20%20%20%20%20%20%20%20%20%20%20%20%20%20%20%20%20%20%20%20%20margin%3A%20auto%3B%0A%20%20%20%20%20%20%20%20%20%20%20%20%20%20%20%20%20%20%20%20%20%20%20%20%7D%0A%20%20%20%20%20%20%20%20%20%20%20%20%20%20%20%20%20%20%20%20%20%20%20%20.foliumtooltip%20tr%7B%0A%20%20%20%20%20%20%20%20%20%20%20%20%20%20%20%20%20%20%20%20%20%20%20%20%20%20%20%20text-align%3A%20left%3B%0A%20%20%20%20%20%20%20%20%20%20%20%20%20%20%20%20%20%20%20%20%20%20%20%20%7D%0A%20%20%20%20%20%20%20%20%20%20%20%20%20%20%20%20%20%20%20%20%20%20%20%20.foliumtooltip%20th%7B%0A%20%20%20%20%20%20%20%20%20%20%20%20%20%20%20%20%20%20%20%20%20%20%20%20%20%20%20%20padding%3A%202px%3B%20padding-right%3A%208px%3B%0A%20%20%20%20%20%20%20%20%20%20%20%20%20%20%20%20%20%20%20%20%20%20%20%20%7D%0A%20%20%20%20%20%20%20%20%20%20%20%20%20%20%20%20%20%20%20%20%3C/style%3E%0A%20%20%20%20%20%20%20%20%20%20%20%20%0A%3C/head%3E%0A%3Cbody%3E%20%20%20%20%0A%20%20%20%20%0A%20%20%20%20%20%20%20%20%20%20%20%20%3Cdiv%20class%3D%22folium-map%22%20id%3D%22map_2d67af05160f4c21926eca8f0c1be9e8%22%20%3E%3C/div%3E%0A%20%20%20%20%20%20%20%20%0A%3C/body%3E%0A%3Cscript%3E%20%20%20%20%0A%20%20%20%20%0A%20%20%20%20%20%20%20%20%20%20%20%20var%20map_2d67af05160f4c21926eca8f0c1be9e8%20%3D%20L.map%28%0A%20%20%20%20%20%20%20%20%20%20%20%20%20%20%20%20%22map_2d67af05160f4c21926eca8f0c1be9e8%22%2C%0A%20%20%20%20%20%20%20%20%20%20%20%20%20%20%20%20%7B%0A%20%20%20%20%20%20%20%20%20%20%20%20%20%20%20%20%20%20%20%20center%3A%20%5B0%2C%200%5D%2C%0A%20%20%20%20%20%20%20%20%20%20%20%20%20%20%20%20%20%20%20%20crs%3A%20L.CRS.EPSG3857%2C%0A%20%20%20%20%20%20%20%20%20%20%20%20%20%20%20%20%20%20%20%20zoom%3A%201%2C%0A%20%20%20%20%20%20%20%20%20%20%20%20%20%20%20%20%20%20%20%20zoomControl%3A%20true%2C%0A%20%20%20%20%20%20%20%20%20%20%20%20%20%20%20%20%20%20%20%20preferCanvas%3A%20false%2C%0A%20%20%20%20%20%20%20%20%20%20%20%20%20%20%20%20%7D%0A%20%20%20%20%20%20%20%20%20%20%20%20%29%3B%0A%20%20%20%20%20%20%20%20%20%20%20%20L.control.scale%28%29.addTo%28map_2d67af05160f4c21926eca8f0c1be9e8%29%3B%0A%0A%20%20%20%20%20%20%20%20%20%20%20%20%0A%0A%20%20%20%20%20%20%20%20%0A%20%20%20%20%0A%20%20%20%20%20%20%20%20%20%20%20%20var%20tile_layer_2253d6b286bc4d48b65e0431da18c871%20%3D%20L.tileLayer%28%0A%20%20%20%20%20%20%20%20%20%20%20%20%20%20%20%20%22https%3A//%7Bs%7D.tile.openstreetmap.org/%7Bz%7D/%7Bx%7D/%7By%7D.png%22%2C%0A%20%20%20%20%20%20%20%20%20%20%20%20%20%20%20%20%7B%22attribution%22%3A%20%22Data%20by%20%5Cu0026copy%3B%20%5Cu003ca%20href%3D%5C%22http%3A//openstreetmap.org%5C%22%5Cu003eOpenStreetMap%5Cu003c/a%5Cu003e%2C%20under%20%5Cu003ca%20href%3D%5C%22http%3A//www.openstreetmap.org/copyright%5C%22%5Cu003eODbL%5Cu003c/a%5Cu003e.%22%2C%20%22detectRetina%22%3A%20false%2C%20%22maxNativeZoom%22%3A%2018%2C%20%22maxZoom%22%3A%2018%2C%20%22minZoom%22%3A%200%2C%20%22noWrap%22%3A%20false%2C%20%22opacity%22%3A%201%2C%20%22subdomains%22%3A%20%22abc%22%2C%20%22tms%22%3A%20false%7D%0A%20%20%20%20%20%20%20%20%20%20%20%20%29.addTo%28map_2d67af05160f4c21926eca8f0c1be9e8%29%3B%0A%20%20%20%20%20%20%20%20%0A%20%20%20%20%0A%20%20%20%20%20%20%20%20%20%20%20%20map_2d67af05160f4c21926eca8f0c1be9e8.fitBounds%28%0A%20%20%20%20%20%20%20%20%20%20%20%20%20%20%20%20%5B%5B37.1892957161125%2C%20-6.64998764677076%5D%2C%20%5B37.35116228497075%2C%20-6.4277264598930905%5D%5D%2C%0A%20%20%20%20%20%20%20%20%20%20%20%20%20%20%20%20%7B%7D%0A%20%20%20%20%20%20%20%20%20%20%20%20%29%3B%0A%20%20%20%20%20%20%20%20%0A%20%20%20%20%0A%20%20%20%20%20%20%20%20%20%20%20%20var%20tile_layer_9af763559ace4ea2b4a1e958c55eb390%20%3D%20L.tileLayer%28%0A%20%20%20%20%20%20%20%20%20%20%20%20%20%20%20%20%22https%3A//server.arcgisonline.com/ArcGIS/rest/services/World_Imagery/MapServer/tile/%7Bz%7D/%7By%7D/%7Bx%7D%22%2C%0A%20%20%20%20%20%20%20%20%20%20%20%20%20%20%20%20%7B%22attribution%22%3A%20%22Tiles%20%5Cu0026copy%3B%20Esri%20%5Cu0026mdash%3B%20Source%3A%20Esri%2C%20i-cubed%2C%20USDA%2C%20USGS%2C%20AEX%2C%20GeoEye%2C%20Getmapping%2C%20Aerogrid%2C%20IGN%2C%20IGP%2C%20UPR-EGP%2C%20and%20the%20GIS%20User%20Community%22%2C%20%22detectRetina%22%3A%20false%2C%20%22maxNativeZoom%22%3A%2018%2C%20%22maxZoom%22%3A%2018%2C%20%22minZoom%22%3A%200%2C%20%22noWrap%22%3A%20false%2C%20%22opacity%22%3A%201%2C%20%22subdomains%22%3A%20%22abc%22%2C%20%22tms%22%3A%20false%7D%0A%20%20%20%20%20%20%20%20%20%20%20%20%29.addTo%28map_2d67af05160f4c21926eca8f0c1be9e8%29%3B%0A%20%20%20%20%20%20%20%20%0A%20%20%20%20%0A%20%20%20%20%20%20%20%20%20%20%20%20var%20tile_layer_acefcc54f9164cad886bb7235c7f77ce%20%3D%20L.tileLayer%28%0A%20%20%20%20%20%20%20%20%20%20%20%20%20%20%20%20%22https%3A//server.arcgisonline.com/ArcGIS/rest/services/World_Street_Map/MapServer/tile/%7Bz%7D/%7By%7D/%7Bx%7D%22%2C%0A%20%20%20%20%20%20%20%20%20%20%20%20%20%20%20%20%7B%22attribution%22%3A%20%22Tiles%20%5Cu0026copy%3B%20Esri%20%5Cu0026mdash%3B%20Source%3A%20Esri%2C%20DeLorme%2C%20NAVTEQ%2C%20USGS%2C%20Intermap%2C%20iPC%2C%20NRCAN%2C%20Esri%20Japan%2C%20METI%2C%20Esri%20China%20%28Hong%20Kong%29%2C%20Esri%20%28Thailand%29%2C%20TomTom%2C%202012%22%2C%20%22detectRetina%22%3A%20false%2C%20%22maxNativeZoom%22%3A%2018%2C%20%22maxZoom%22%3A%2018%2C%20%22minZoom%22%3A%200%2C%20%22noWrap%22%3A%20false%2C%20%22opacity%22%3A%201%2C%20%22subdomains%22%3A%20%22abc%22%2C%20%22tms%22%3A%20false%7D%0A%20%20%20%20%20%20%20%20%20%20%20%20%29.addTo%28map_2d67af05160f4c21926eca8f0c1be9e8%29%3B%0A%20%20%20%20%20%20%20%20%0A%20%20%20%20%0A%20%20%20%20%20%20%20%20%20%20%20%20var%20tile_layer_3114eef0d83b4d77b0e2ad49e770f792%20%3D%20L.tileLayer%28%0A%20%20%20%20%20%20%20%20%20%20%20%20%20%20%20%20%22https%3A//stamen-tiles-%7Bs%7D.a.ssl.fastly.net/terrain/%7Bz%7D/%7Bx%7D/%7By%7D.jpg%22%2C%0A%20%20%20%20%20%20%20%20%20%20%20%20%20%20%20%20%7B%22attribution%22%3A%20%22Map%20tiles%20by%20%5Cu003ca%20href%3D%5C%22http%3A//stamen.com%5C%22%5Cu003eStamen%20Design%5Cu003c/a%5Cu003e%2C%20under%20%5Cu003ca%20href%3D%5C%22http%3A//creativecommons.org/licenses/by/3.0%5C%22%5Cu003eCC%20BY%203.0%5Cu003c/a%5Cu003e.%20Data%20by%20%5Cu0026copy%3B%20%5Cu003ca%20href%3D%5C%22http%3A//openstreetmap.org%5C%22%5Cu003eOpenStreetMap%5Cu003c/a%5Cu003e%2C%20under%20%5Cu003ca%20href%3D%5C%22http%3A//creativecommons.org/licenses/by-sa/3.0%5C%22%5Cu003eCC%20BY%20SA%5Cu003c/a%5Cu003e.%22%2C%20%22detectRetina%22%3A%20false%2C%20%22maxNativeZoom%22%3A%2018%2C%20%22maxZoom%22%3A%2018%2C%20%22minZoom%22%3A%200%2C%20%22noWrap%22%3A%20false%2C%20%22opacity%22%3A%201%2C%20%22subdomains%22%3A%20%22abc%22%2C%20%22tms%22%3A%20false%7D%0A%20%20%20%20%20%20%20%20%20%20%20%20%29.addTo%28map_2d67af05160f4c21926eca8f0c1be9e8%29%3B%0A%20%20%20%20%20%20%20%20%0A%20%20%20%20%0A%20%20%20%20%20%20%20%20%20%20%20%20var%20tile_layer_b7c69a572aa54e25a20f295d36e3cf72%20%3D%20L.tileLayer%28%0A%20%20%20%20%20%20%20%20%20%20%20%20%20%20%20%20%22%22%2C%0A%20%20%20%20%20%20%20%20%20%20%20%20%20%20%20%20%7B%22attribution%22%3A%20%22blank%22%2C%20%22detectRetina%22%3A%20false%2C%20%22maxNativeZoom%22%3A%2018%2C%20%22maxZoom%22%3A%2018%2C%20%22minZoom%22%3A%200%2C%20%22noWrap%22%3A%20false%2C%20%22opacity%22%3A%201%2C%20%22subdomains%22%3A%20%22abc%22%2C%20%22tms%22%3A%20false%7D%0A%20%20%20%20%20%20%20%20%20%20%20%20%29.addTo%28map_2d67af05160f4c21926eca8f0c1be9e8%29%3B%0A%20%20%20%20%20%20%20%20%0A%20%20%20%20%0A%20%20%20%20%20%20%20%20function%20geo_json_d55aea7d7a4b40b9b84ff4d100d1b0fe_styler%28feature%29%20%7B%0A%20%20%20%20%20%20%20%20%20%20%20%20switch%28feature.id%29%20%7B%0A%20%20%20%20%20%20%20%20%20%20%20%20%20%20%20%20default%3A%0A%20%20%20%20%20%20%20%20%20%20%20%20%20%20%20%20%20%20%20%20return%20%7B%22color%22%3A%20%22black%22%2C%20%22fill%22%3A%20true%2C%20%22fillColor%22%3A%20%22%23F39AB8%22%2C%20%22fillOpacity%22%3A%200.5%2C%20%22weight%22%3A%201%7D%3B%0A%20%20%20%20%20%20%20%20%20%20%20%20%7D%0A%20%20%20%20%20%20%20%20%7D%0A%20%20%20%20%20%20%20%20function%20geo_json_d55aea7d7a4b40b9b84ff4d100d1b0fe_highlighter%28feature%29%20%7B%0A%20%20%20%20%20%20%20%20%20%20%20%20switch%28feature.id%29%20%7B%0A%20%20%20%20%20%20%20%20%20%20%20%20%20%20%20%20default%3A%0A%20%20%20%20%20%20%20%20%20%20%20%20%20%20%20%20%20%20%20%20return%20%7B%22fillOpacity%22%3A%200.75%7D%3B%0A%20%20%20%20%20%20%20%20%20%20%20%20%7D%0A%20%20%20%20%20%20%20%20%7D%0A%20%20%20%20%20%20%20%20function%20geo_json_d55aea7d7a4b40b9b84ff4d100d1b0fe_pointToLayer%28feature%2C%20latlng%29%20%7B%0A%20%20%20%20%20%20%20%20%20%20%20%20var%20opts%20%3D%20%7B%22bubblingMouseEvents%22%3A%20true%2C%20%22color%22%3A%20%22%233388ff%22%2C%20%22dashArray%22%3A%20null%2C%20%22dashOffset%22%3A%20null%2C%20%22fill%22%3A%20true%2C%20%22fillColor%22%3A%20%22%233388ff%22%2C%20%22fillOpacity%22%3A%200.2%2C%20%22fillRule%22%3A%20%22evenodd%22%2C%20%22lineCap%22%3A%20%22round%22%2C%20%22lineJoin%22%3A%20%22round%22%2C%20%22opacity%22%3A%201.0%2C%20%22radius%22%3A%202%2C%20%22stroke%22%3A%20true%2C%20%22weight%22%3A%203%7D%3B%0A%20%20%20%20%20%20%20%20%20%20%20%20%0A%20%20%20%20%20%20%20%20%20%20%20%20let%20style%20%3D%20geo_json_d55aea7d7a4b40b9b84ff4d100d1b0fe_styler%28feature%29%0A%20%20%20%20%20%20%20%20%20%20%20%20Object.assign%28opts%2C%20style%29%0A%20%20%20%20%20%20%20%20%20%20%20%20%0A%20%20%20%20%20%20%20%20%20%20%20%20return%20new%20L.CircleMarker%28latlng%2C%20opts%29%0A%20%20%20%20%20%20%20%20%7D%0A%0A%20%20%20%20%20%20%20%20function%20geo_json_d55aea7d7a4b40b9b84ff4d100d1b0fe_onEachFeature%28feature%2C%20layer%29%20%7B%0A%20%20%20%20%20%20%20%20%20%20%20%20layer.on%28%7B%0A%20%20%20%20%20%20%20%20%20%20%20%20%20%20%20%20mouseout%3A%20function%28e%29%20%7B%0A%20%20%20%20%20%20%20%20%20%20%20%20%20%20%20%20%20%20%20%20if%28typeof%20e.target.setStyle%20%3D%3D%3D%20%22function%22%29%7B%0A%20%20%20%20%20%20%20%20%20%20%20%20%20%20%20%20%20%20%20%20%20%20%20%20geo_json_d55aea7d7a4b40b9b84ff4d100d1b0fe.resetStyle%28e.target%29%3B%0A%20%20%20%20%20%20%20%20%20%20%20%20%20%20%20%20%20%20%20%20%7D%0A%20%20%20%20%20%20%20%20%20%20%20%20%20%20%20%20%7D%2C%0A%20%20%20%20%20%20%20%20%20%20%20%20%20%20%20%20mouseover%3A%20function%28e%29%20%7B%0A%20%20%20%20%20%20%20%20%20%20%20%20%20%20%20%20%20%20%20%20if%28typeof%20e.target.setStyle%20%3D%3D%3D%20%22function%22%29%7B%0A%20%20%20%20%20%20%20%20%20%20%20%20%20%20%20%20%20%20%20%20%20%20%20%20const%20highlightStyle%20%3D%20geo_json_d55aea7d7a4b40b9b84ff4d100d1b0fe_highlighter%28e.target.feature%29%0A%20%20%20%20%20%20%20%20%20%20%20%20%20%20%20%20%20%20%20%20%20%20%20%20e.target.setStyle%28highlightStyle%29%3B%0A%20%20%20%20%20%20%20%20%20%20%20%20%20%20%20%20%20%20%20%20%7D%0A%20%20%20%20%20%20%20%20%20%20%20%20%20%20%20%20%7D%2C%0A%20%20%20%20%20%20%20%20%20%20%20%20%7D%29%3B%0A%20%20%20%20%20%20%20%20%7D%3B%0A%20%20%20%20%20%20%20%20var%20geo_json_d55aea7d7a4b40b9b84ff4d100d1b0fe%20%3D%20L.geoJson%28null%2C%20%7B%0A%20%20%20%20%20%20%20%20%20%20%20%20%20%20%20%20onEachFeature%3A%20geo_json_d55aea7d7a4b40b9b84ff4d100d1b0fe_onEachFeature%2C%0A%20%20%20%20%20%20%20%20%20%20%20%20%0A%20%20%20%20%20%20%20%20%20%20%20%20%20%20%20%20style%3A%20geo_json_d55aea7d7a4b40b9b84ff4d100d1b0fe_styler%2C%0A%20%20%20%20%20%20%20%20%20%20%20%20%20%20%20%20pointToLayer%3A%20geo_json_d55aea7d7a4b40b9b84ff4d100d1b0fe_pointToLayer%0A%20%20%20%20%20%20%20%20%7D%29%3B%0A%0A%20%20%20%20%20%20%20%20function%20geo_json_d55aea7d7a4b40b9b84ff4d100d1b0fe_add%20%28data%29%20%7B%0A%20%20%20%20%20%20%20%20%20%20%20%20geo_json_d55aea7d7a4b40b9b84ff4d100d1b0fe%0A%20%20%20%20%20%20%20%20%20%20%20%20%20%20%20%20.addData%28data%29%0A%20%20%20%20%20%20%20%20%20%20%20%20%20%20%20%20.addTo%28map_2d67af05160f4c21926eca8f0c1be9e8%29%3B%0A%20%20%20%20%20%20%20%20%7D%0A%20%20%20%20%20%20%20%20%20%20%20%20geo_json_d55aea7d7a4b40b9b84ff4d100d1b0fe_add%28%7B%22bbox%22%3A%20%5B-6.64998764677076%2C%2037.1892957161125%2C%20-6.4277264598930905%2C%2037.35116228497075%5D%2C%20%22features%22%3A%20%5B%7B%22bbox%22%3A%20%5B-6.451170084007725%2C%2037.254038327679616%2C%20-6.4277264598930905%2C%2037.27230920533746%5D%2C%20%22geometry%22%3A%20%7B%22coordinates%22%3A%20%5B%5B%5B-6.447755878555266%2C%2037.27076129907387%5D%2C%20%5B-6.442819315835109%2C%2037.27230920533746%5D%2C%20%5B-6.439035678864871%2C%2037.27024300346892%5D%2C%20%5B-6.43738637518817%2C%2037.26874648249237%5D%2C%20%5B-6.436182139426452%2C%2037.26737741155597%5D%2C%20%5B-6.43369245426553%2C%2037.26478199493442%5D%2C%20%5B-6.433352809009028%2C%2037.26310696886272%5D%2C%20%5B-6.432794629165319%2C%2037.26242113685041%5D%2C%20%5B-6.428834523096515%2C%2037.262255213336665%5D%2C%20%5B-6.4277264598930905%2C%2037.259128165856%5D%2C%20%5B-6.428120979943113%2C%2037.25427266618406%5D%2C%20%5B-6.431359883417118%2C%2037.254038327679616%5D%2C%20%5B-6.435914249523977%2C%2037.26148809259543%5D%2C%20%5B-6.439606438702897%2C%2037.26348686419122%5D%2C%20%5B-6.4398138041044986%2C%2037.26418286774593%5D%2C%20%5B-6.443933465476324%2C%2037.26399275559899%5D%2C%20%5B-6.444252378605144%2C%2037.26328143266082%5D%2C%20%5B-6.44497971036093%2C%2037.263821873393006%5D%2C%20%5B-6.450440730189558%2C%2037.26415407620287%5D%2C%20%5B-6.451170084007725%2C%2037.26666011095892%5D%2C%20%5B-6.4501129569120135%2C%2037.268516245460276%5D%2C%20%5B-6.447755878555266%2C%2037.27076129907387%5D%5D%5D%2C%20%22type%22%3A%20%22Polygon%22%7D%2C%20%22id%22%3A%20%220%22%2C%20%22properties%22%3A%20%7B%22Agregado%22%3A%20%221%22%2C%20%22Asc%22%3A%20%5B%22352866%22%2C%20%22352918%22%2C%20%22353090%22%2C%20%22353226%22%2C%20%22353378%22%2C%20%22353502%22%2C%20%22353503%22%5D%2C%20%22Desc%22%3A%20%5B%5D%7D%2C%20%22type%22%3A%20%22Feature%22%7D%2C%20%7B%22bbox%22%3A%20%5B-6.573484146257%2C%2037.273293780016814%2C%20-6.5657730816093505%2C%2037.2805084405138%5D%2C%20%22geometry%22%3A%20%7B%22coordinates%22%3A%20%5B%5B%5B-6.570239672613684%2C%2037.2805084405138%5D%2C%20%5B-6.5657730816093505%2C%2037.27864394926114%5D%2C%20%5B-6.567260711810391%2C%2037.27742301550374%5D%2C%20%5B-6.567709149200036%2C%2037.27523378035398%5D%2C%20%5B-6.568631726687824%2C%2037.27373586679751%5D%2C%20%5B-6.569640973512663%2C%2037.273293780016814%5D%2C%20%5B-6.571735813374729%2C%2037.27402435036319%5D%2C%20%5B-6.573484146257%2C%2037.2752063766009%5D%2C%20%5B-6.573330409758652%2C%2037.27662228811028%5D%2C%20%5B-6.572018266095252%2C%2037.27766158599562%5D%2C%20%5B-6.571026400652169%2C%2037.27924982204223%5D%2C%20%5B-6.570239672613684%2C%2037.2805084405138%5D%5D%5D%2C%20%22type%22%3A%20%22Polygon%22%7D%2C%20%22id%22%3A%20%221%22%2C%20%22properties%22%3A%20%7B%22Agregado%22%3A%20%222%22%2C%20%22Asc%22%3A%20%5B%22360870%22%2C%20%22360871%22%2C%20%22360872%22%2C%20%22360893%22%2C%20%22360894%22%2C%20%22360895%22%2C%20%22360896%22%2C%20%22360897%22%2C%20%22360898%22%2C%20%22360921%22%2C%20%22360922%22%2C%20%22360923%22%2C%20%22360924%22%2C%20%22360946%22%2C%20%22360947%22%2C%20%22360948%22%2C%20%22360949%22%2C%20%22360950%22%2C%20%22360983%22%2C%20%22360984%22%2C%20%22360985%22%2C%20%22361010%22%5D%2C%20%22Desc%22%3A%20%5B%22402609%22%2C%20%22402665%22%2C%20%22402666%22%2C%20%22402667%22%2C%20%22402727%22%2C%20%22402728%22%2C%20%22402729%22%2C%20%22402730%22%2C%20%22402789%22%2C%20%22402790%22%2C%20%22402791%22%2C%20%22402792%22%2C%20%22402793%22%2C%20%22402794%22%2C%20%22402848%22%2C%20%22402849%22%2C%20%22402850%22%2C%20%22402851%22%2C%20%22402852%22%2C%20%22402853%22%2C%20%22402854%22%2C%20%22402915%22%2C%20%22402916%22%2C%20%22402917%22%2C%20%22402918%22%2C%20%22402919%22%2C%20%22402920%22%2C%20%22402983%22%2C%20%22402984%22%2C%20%22402985%22%2C%20%22403067%22%2C%20%22403202%22%5D%7D%2C%20%22type%22%3A%20%22Feature%22%7D%2C%20%7B%22bbox%22%3A%20%5B-6.64998764677076%2C%2037.1892957161125%2C%20-6.634240003794673%2C%2037.20708975605816%5D%2C%20%22geometry%22%3A%20%7B%22coordinates%22%3A%20%5B%5B%5B-6.647416819776662%2C%2037.20708957013554%5D%2C%20%5B-6.6439617072421715%2C%2037.20708975605816%5D%2C%20%5B-6.640159525678055%2C%2037.205399832517074%5D%2C%20%5B-6.637107735104211%2C%2037.20273007620996%5D%2C%20%5B-6.634240003794673%2C%2037.19835388886611%5D%2C%20%5B-6.63534765633065%2C%2037.19374924759276%5D%2C%20%5B-6.637710332706838%2C%2037.190381537335774%5D%2C%20%5B-6.641909638639257%2C%2037.1892957161125%5D%2C%20%5B-6.646491667266272%2C%2037.19064269234485%5D%2C%20%5B-6.6483543493912%2C%2037.19345517899528%5D%2C%20%5B-6.64998764677076%2C%2037.197018758882464%5D%2C%20%5B-6.6498096411922445%2C%2037.20159484019308%5D%2C%20%5B-6.647416819776662%2C%2037.20708957013554%5D%5D%5D%2C%20%22type%22%3A%20%22Polygon%22%7D%2C%20%22id%22%3A%20%222%22%2C%20%22properties%22%3A%20%7B%22Agregado%22%3A%20%223%22%2C%20%22Asc%22%3A%20%5B%22362781%22%2C%20%22362811%22%2C%20%22362841%22%2C%20%22362842%22%2C%20%22362843%22%2C%20%22362872%22%2C%20%22362873%22%2C%20%22362906%22%2C%20%22362907%22%2C%20%22362908%22%2C%20%22362934%22%2C%20%22362935%22%2C%20%22362936%22%2C%20%22362970%22%2C%20%22362971%22%2C%20%22362972%22%2C%20%22362973%22%2C%20%22362974%22%2C%20%22362975%22%2C%20%22363005%22%2C%20%22363006%22%2C%20%22363007%22%2C%20%22363031%22%2C%20%22363032%22%2C%20%22363033%22%2C%20%22363062%22%2C%20%22363063%22%2C%20%22363064%22%2C%20%22363065%22%2C%20%22363066%22%2C%20%22363092%22%2C%20%22363093%22%2C%20%22363094%22%2C%20%22363095%22%2C%20%22363096%22%2C%20%22363097%22%2C%20%22363098%22%2C%20%22363130%22%2C%20%22363131%22%2C%20%22363132%22%2C%20%22363133%22%2C%20%22363134%22%2C%20%22363164%22%2C%20%22363165%22%2C%20%22363166%22%2C%20%22363167%22%2C%20%22363168%22%2C%20%22363169%22%2C%20%22363170%22%2C%20%22363204%22%2C%20%22363205%22%2C%20%22363206%22%2C%20%22363207%22%2C%20%22363208%22%2C%20%22363209%22%2C%20%22363241%22%2C%20%22363242%22%2C%20%22363243%22%2C%20%22363274%22%2C%20%22363275%22%5D%2C%20%22Desc%22%3A%20%5B%22390832%22%2C%20%22390833%22%2C%20%22390834%22%2C%20%22390911%22%2C%20%22390912%22%2C%20%22390913%22%2C%20%22390914%22%2C%20%22390915%22%2C%20%22390916%22%2C%20%22390917%22%2C%20%22390918%22%2C%20%22390919%22%2C%20%22390995%22%2C%20%22390996%22%2C%20%22390997%22%2C%20%22390998%22%2C%20%22390999%22%2C%20%22391000%22%2C%20%22391001%22%2C%20%22391002%22%2C%20%22391003%22%2C%20%22391004%22%2C%20%22391005%22%2C%20%22391006%22%2C%20%22391112%22%2C%20%22391113%22%2C%20%22391114%22%2C%20%22391115%22%2C%20%22391116%22%2C%20%22391117%22%2C%20%22391118%22%2C%20%22391119%22%2C%20%22391120%22%2C%20%22391121%22%2C%20%22391122%22%2C%20%22391123%22%2C%20%22391124%22%2C%20%22391125%22%2C%20%22391217%22%2C%20%22391218%22%2C%20%22391219%22%2C%20%22391220%22%2C%20%22391221%22%2C%20%22391222%22%2C%20%22391223%22%2C%20%22391224%22%2C%20%22391225%22%2C%20%22391226%22%2C%20%22391227%22%2C%20%22391228%22%2C%20%22391229%22%2C%20%22391230%22%2C%20%22391231%22%2C%20%22391232%22%2C%20%22391233%22%2C%20%22391234%22%2C%20%22391235%22%2C%20%22391236%22%2C%20%22391341%22%2C%20%22391342%22%2C%20%22391343%22%2C%20%22391344%22%2C%20%22391345%22%2C%20%22391346%22%2C%20%22391347%22%2C%20%22391348%22%2C%20%22391349%22%2C%20%22391350%22%2C%20%22391351%22%2C%20%22391352%22%2C%20%22391353%22%2C%20%22391354%22%2C%20%22391355%22%2C%20%22391356%22%2C%20%22391357%22%2C%20%22391358%22%2C%20%22391359%22%2C%20%22391360%22%2C%20%22391361%22%2C%20%22391362%22%2C%20%22391363%22%2C%20%22391481%22%2C%20%22391482%22%2C%20%22391483%22%2C%20%22391484%22%2C%20%22391485%22%2C%20%22391486%22%2C%20%22391487%22%2C%20%22391488%22%2C%20%22391489%22%2C%20%22391490%22%2C%20%22391491%22%2C%20%22391492%22%2C%20%22391493%22%2C%20%22391494%22%2C%20%22391495%22%2C%20%22391496%22%2C%20%22391497%22%2C%20%22391498%22%2C%20%22391499%22%2C%20%22391500%22%2C%20%22391501%22%2C%20%22391612%22%2C%20%22391613%22%2C%20%22391614%22%2C%20%22391615%22%2C%20%22391616%22%2C%20%22391617%22%2C%20%22391618%22%2C%20%22391619%22%2C%20%22391620%22%2C%20%22391621%22%2C%20%22391622%22%2C%20%22391623%22%2C%20%22391624%22%2C%20%22391625%22%2C%20%22391626%22%2C%20%22391627%22%2C%20%22391628%22%2C%20%22391629%22%2C%20%22391630%22%2C%20%22391631%22%2C%20%22391632%22%2C%20%22391633%22%2C%20%22391634%22%2C%20%22391760%22%2C%20%22391761%22%2C%20%22391762%22%2C%20%22391763%22%2C%20%22391764%22%2C%20%22391765%22%2C%20%22391766%22%2C%20%22391767%22%2C%20%22391768%22%2C%20%22391769%22%2C%20%22391770%22%2C%20%22391771%22%2C%20%22391772%22%2C%20%22391773%22%2C%20%22391774%22%2C%20%22391775%22%2C%20%22391776%22%2C%20%22391777%22%2C%20%22391778%22%2C%20%22391779%22%2C%20%22391780%22%2C%20%22391781%22%2C%20%22391782%22%2C%20%22391783%22%2C%20%22391896%22%2C%20%22391897%22%2C%20%22391898%22%2C%20%22391899%22%2C%20%22391900%22%2C%20%22391901%22%2C%20%22391902%22%2C%20%22391903%22%2C%20%22391904%22%2C%20%22391905%22%2C%20%22391906%22%2C%20%22391907%22%2C%20%22391908%22%2C%20%22391909%22%2C%20%22391910%22%2C%20%22391911%22%2C%20%22391912%22%2C%20%22391913%22%2C%20%22391914%22%2C%20%22391915%22%2C%20%22392048%22%2C%20%22392049%22%2C%20%22392050%22%2C%20%22392051%22%2C%20%22392052%22%2C%20%22392053%22%2C%20%22392054%22%2C%20%22392055%22%2C%20%22392056%22%2C%20%22392057%22%2C%20%22392058%22%2C%20%22392059%22%2C%20%22392060%22%2C%20%22392061%22%2C%20%22392062%22%2C%20%22392063%22%2C%20%22392064%22%2C%20%22392065%22%2C%20%22392066%22%2C%20%22392067%22%2C%20%22392068%22%2C%20%22392069%22%2C%20%22392180%22%2C%20%22392181%22%2C%20%22392182%22%2C%20%22392183%22%2C%20%22392184%22%2C%20%22392185%22%2C%20%22392186%22%2C%20%22392187%22%2C%20%22392188%22%2C%20%22392189%22%2C%20%22392190%22%2C%20%22392191%22%2C%20%22392192%22%2C%20%22392193%22%2C%20%22392194%22%2C%20%22392195%22%2C%20%22392196%22%2C%20%22392197%22%2C%20%22392198%22%2C%20%22392199%22%2C%20%22392200%22%2C%20%22392201%22%2C%20%22392202%22%2C%20%22392319%22%2C%20%22392320%22%2C%20%22392321%22%2C%20%22392322%22%2C%20%22392323%22%2C%20%22392324%22%2C%20%22392325%22%2C%20%22392326%22%2C%20%22392327%22%2C%20%22392328%22%2C%20%22392329%22%2C%20%22392330%22%2C%20%22392331%22%2C%20%22392332%22%2C%20%22392333%22%2C%20%22392334%22%2C%20%22392335%22%2C%20%22392336%22%2C%20%22392337%22%2C%20%22392338%22%2C%20%22392434%22%2C%20%22392435%22%2C%20%22392436%22%2C%20%22392437%22%2C%20%22392438%22%2C%20%22392439%22%2C%20%22392440%22%2C%20%22392441%22%2C%20%22392442%22%2C%20%22392443%22%2C%20%22392444%22%2C%20%22392445%22%2C%20%22392446%22%2C%20%22392447%22%2C%20%22392448%22%2C%20%22392564%22%2C%20%22392565%22%2C%20%22392566%22%2C%20%22392567%22%2C%20%22392568%22%2C%20%22392569%22%2C%20%22392570%22%2C%20%22392571%22%2C%20%22392572%22%2C%20%22392573%22%2C%20%22392574%22%2C%20%22392575%22%2C%20%22392576%22%2C%20%22392577%22%2C%20%22392683%22%2C%20%22392684%22%2C%20%22392685%22%2C%20%22392686%22%2C%20%22392687%22%2C%20%22392688%22%2C%20%22392689%22%2C%20%22392690%22%2C%20%22392691%22%2C%20%22392692%22%2C%20%22392693%22%2C%20%22392694%22%2C%20%22392695%22%2C%20%22392696%22%2C%20%22392697%22%2C%20%22392698%22%2C%20%22392699%22%2C%20%22392816%22%2C%20%22392817%22%2C%20%22392818%22%2C%20%22392819%22%2C%20%22392820%22%2C%20%22392821%22%2C%20%22392822%22%2C%20%22392823%22%2C%20%22392824%22%2C%20%22392825%22%2C%20%22392826%22%2C%20%22392827%22%2C%20%22392828%22%2C%20%22392962%22%2C%20%22392963%22%2C%20%22392964%22%2C%20%22392965%22%2C%20%22392966%22%2C%20%22392967%22%2C%20%22392968%22%2C%20%22392969%22%2C%20%22392970%22%2C%20%22392971%22%2C%20%22392972%22%2C%20%22393086%22%2C%20%22393087%22%5D%7D%2C%20%22type%22%3A%20%22Feature%22%7D%2C%20%7B%22bbox%22%3A%20%5B-6.608034254183407%2C%2037.29506292984379%2C%20-6.586664880490716%2C%2037.31818784890936%5D%2C%20%22geometry%22%3A%20%7B%22coordinates%22%3A%20%5B%5B%5B-6.600341449771475%2C%2037.31818784890936%5D%2C%20%5B-6.594742933377532%2C%2037.31813103064817%5D%2C%20%5B-6.5878913412214875%2C%2037.31167328530157%5D%2C%20%5B-6.588132245486133%2C%2037.31075697689692%5D%2C%20%5B-6.589283025843788%2C%2037.31102503179458%5D%2C%20%5B-6.589232618717304%2C%2037.30996606903278%5D%2C%20%5B-6.588383943435338%2C%2037.31006758902452%5D%2C%20%5B-6.586668595190309%2C%2037.30989240897455%5D%2C%20%5B-6.586664880490716%2C%2037.30383255144507%5D%2C%20%5B-6.589082235959088%2C%2037.29883544558745%5D%2C%20%5B-6.591083513841835%2C%2037.29506292984379%5D%2C%20%5B-6.597171746850254%2C%2037.29548380531446%5D%2C%20%5B-6.6026102000828635%2C%2037.30016613389683%5D%2C%20%5B-6.606753911214512%2C%2037.301554746594896%5D%2C%20%5B-6.607787589652264%2C%2037.30334117977146%5D%2C%20%5B-6.608034254183407%2C%2037.306515115348944%5D%2C%20%5B-6.6078364285961735%2C%2037.31030861171259%5D%2C%20%5B-6.607773707360728%2C%2037.31296174573751%5D%2C%20%5B-6.606985941263057%2C%2037.31631875263602%5D%2C%20%5B-6.600341449771475%2C%2037.31818784890936%5D%5D%5D%2C%20%22type%22%3A%20%22Polygon%22%7D%2C%20%22id%22%3A%20%223%22%2C%20%22properties%22%3A%20%7B%22Agregado%22%3A%20%224%22%2C%20%22Asc%22%3A%20%5B%22361832%22%2C%20%22361842%22%2C%20%22361843%22%2C%20%22361844%22%2C%20%22361845%22%2C%20%22361864%22%2C%20%22361865%22%2C%20%22361866%22%2C%20%22361867%22%2C%20%22361868%22%2C%20%22361869%22%2C%20%22361870%22%2C%20%22361871%22%2C%20%22361880%22%2C%20%22361881%22%2C%20%22361882%22%2C%20%22361883%22%2C%20%22361884%22%2C%20%22361885%22%2C%20%22361886%22%2C%20%22361887%22%2C%20%22361888%22%2C%20%22361889%22%2C%20%22361903%22%2C%20%22361904%22%2C%20%22361905%22%2C%20%22361906%22%2C%20%22361907%22%2C%20%22361908%22%2C%20%22361909%22%2C%20%22361910%22%2C%20%22361911%22%2C%20%22361912%22%2C%20%22361913%22%2C%20%22361914%22%2C%20%22361915%22%2C%20%22361916%22%2C%20%22361917%22%2C%20%22361930%22%2C%20%22361931%22%2C%20%22361932%22%2C%20%22361933%22%2C%20%22361934%22%2C%20%22361935%22%2C%20%22361936%22%2C%20%22361937%22%2C%20%22361938%22%2C%20%22361939%22%2C%20%22361940%22%2C%20%22361941%22%2C%20%22361942%22%2C%20%22361943%22%2C%20%22361944%22%2C%20%22361945%22%2C%20%22361946%22%2C%20%22361947%22%2C%20%22361948%22%2C%20%22361949%22%2C%20%22361950%22%2C%20%22361951%22%2C%20%22361966%22%2C%20%22361967%22%2C%20%22361968%22%2C%20%22361969%22%2C%20%22361970%22%2C%20%22361971%22%2C%20%22361972%22%2C%20%22361973%22%2C%20%22361974%22%2C%20%22361975%22%2C%20%22361976%22%2C%20%22361977%22%2C%20%22361978%22%2C%20%22361979%22%2C%20%22361980%22%2C%20%22361981%22%2C%20%22361982%22%2C%20%22361983%22%2C%20%22361984%22%2C%20%22361985%22%2C%20%22361986%22%2C%20%22362002%22%2C%20%22362003%22%2C%20%22362004%22%2C%20%22362005%22%2C%20%22362006%22%2C%20%22362007%22%2C%20%22362008%22%2C%20%22362009%22%2C%20%22362010%22%2C%20%22362011%22%2C%20%22362012%22%2C%20%22362013%22%2C%20%22362014%22%2C%20%22362015%22%2C%20%22362016%22%2C%20%22362017%22%2C%20%22362018%22%2C%20%22362036%22%2C%20%22362037%22%2C%20%22362038%22%2C%20%22362039%22%2C%20%22362040%22%2C%20%22362041%22%2C%20%22362042%22%2C%20%22362043%22%2C%20%22362044%22%2C%20%22362045%22%2C%20%22362046%22%2C%20%22362047%22%2C%20%22362048%22%2C%20%22362049%22%2C%20%22362050%22%2C%20%22362051%22%2C%20%22362052%22%2C%20%22362053%22%2C%20%22362054%22%2C%20%22362055%22%2C%20%22362056%22%2C%20%22362057%22%2C%20%22362070%22%2C%20%22362071%22%2C%20%22362072%22%2C%20%22362073%22%2C%20%22362074%22%2C%20%22362075%22%2C%20%22362076%22%2C%20%22362077%22%2C%20%22362078%22%2C%20%22362079%22%2C%20%22362080%22%2C%20%22362081%22%2C%20%22362082%22%2C%20%22362083%22%2C%20%22362084%22%2C%20%22362085%22%2C%20%22362086%22%2C%20%22362087%22%2C%20%22362088%22%2C%20%22362089%22%2C%20%22362090%22%2C%20%22362091%22%2C%20%22362092%22%2C%20%22362113%22%2C%20%22362114%22%2C%20%22362115%22%2C%20%22362116%22%2C%20%22362117%22%2C%20%22362118%22%2C%20%22362119%22%2C%20%22362120%22%2C%20%22362121%22%2C%20%22362122%22%2C%20%22362123%22%2C%20%22362124%22%2C%20%22362125%22%2C%20%22362126%22%2C%20%22362127%22%2C%20%22362128%22%2C%20%22362129%22%2C%20%22362130%22%2C%20%22362131%22%2C%20%22362132%22%2C%20%22362133%22%2C%20%22362134%22%2C%20%22362135%22%2C%20%22362145%22%2C%20%22362146%22%2C%20%22362147%22%2C%20%22362148%22%2C%20%22362149%22%2C%20%22362150%22%2C%20%22362151%22%2C%20%22362152%22%2C%20%22362153%22%2C%20%22362154%22%2C%20%22362155%22%2C%20%22362156%22%2C%20%22362157%22%2C%20%22362158%22%2C%20%22362159%22%2C%20%22362160%22%2C%20%22362161%22%2C%20%22362162%22%2C%20%22362163%22%2C%20%22362173%22%2C%20%22362174%22%2C%20%22362175%22%2C%20%22362176%22%2C%20%22362177%22%2C%20%22362178%22%2C%20%22362179%22%2C%20%22362180%22%2C%20%22362181%22%2C%20%22362182%22%2C%20%22362183%22%2C%20%22362184%22%2C%20%22362185%22%2C%20%22362186%22%2C%20%22362187%22%2C%20%22362188%22%2C%20%22362189%22%2C%20%22362190%22%2C%20%22362191%22%2C%20%22362199%22%2C%20%22362200%22%2C%20%22362201%22%2C%20%22362202%22%2C%20%22362203%22%2C%20%22362204%22%2C%20%22362205%22%2C%20%22362206%22%2C%20%22362207%22%2C%20%22362208%22%2C%20%22362209%22%2C%20%22362210%22%2C%20%22362211%22%2C%20%22362212%22%2C%20%22362213%22%2C%20%22362214%22%2C%20%22362215%22%2C%20%22362232%22%2C%20%22362233%22%2C%20%22362234%22%2C%20%22362235%22%2C%20%22362236%22%2C%20%22362237%22%2C%20%22362238%22%2C%20%22362239%22%2C%20%22362240%22%2C%20%22362241%22%2C%20%22362242%22%2C%20%22362243%22%2C%20%22362244%22%2C%20%22362245%22%2C%20%22362246%22%2C%20%22362247%22%2C%20%22362260%22%2C%20%22362261%22%2C%20%22362262%22%2C%20%22362263%22%2C%20%22362264%22%2C%20%22362265%22%2C%20%22362266%22%2C%20%22362267%22%2C%20%22362268%22%2C%20%22362269%22%2C%20%22362270%22%2C%20%22362271%22%2C%20%22362272%22%2C%20%22362273%22%2C%20%22362274%22%2C%20%22362275%22%2C%20%22362286%22%2C%20%22362287%22%2C%20%22362288%22%2C%20%22362289%22%2C%20%22362290%22%2C%20%22362291%22%2C%20%22362292%22%2C%20%22362293%22%2C%20%22362294%22%2C%20%22362295%22%2C%20%22362296%22%2C%20%22362297%22%2C%20%22362298%22%2C%20%22362299%22%2C%20%22362313%22%2C%20%22362314%22%2C%20%22362315%22%2C%20%22362316%22%2C%20%22362317%22%2C%20%22362318%22%2C%20%22362319%22%2C%20%22362320%22%2C%20%22362321%22%2C%20%22362322%22%2C%20%22362323%22%2C%20%22362342%22%2C%20%22362343%22%2C%20%22362344%22%2C%20%22362345%22%2C%20%22362346%22%2C%20%22362347%22%2C%20%22362348%22%2C%20%22362369%22%2C%20%22362370%22%2C%20%22362371%22%2C%20%22362372%22%2C%20%22362373%22%2C%20%22362374%22%2C%20%22362375%22%2C%20%22362398%22%2C%20%22362399%22%2C%20%22362400%22%2C%20%22362401%22%2C%20%22362402%22%2C%20%22362403%22%2C%20%22362404%22%2C%20%22362405%22%2C%20%22362425%22%2C%20%22362426%22%2C%20%22362427%22%2C%20%22362428%22%2C%20%22362429%22%2C%20%22362430%22%2C%20%22362431%22%2C%20%22362458%22%2C%20%22362459%22%2C%20%22362460%22%2C%20%22362461%22%2C%20%22362499%22%2C%20%22362500%22%2C%20%22362501%22%5D%2C%20%22Desc%22%3A%20%5B%22398946%22%2C%20%22399045%22%2C%20%22399046%22%2C%20%22399047%22%2C%20%22399048%22%2C%20%22399049%22%2C%20%22399158%22%2C%20%22399159%22%2C%20%22399160%22%2C%20%22399161%22%2C%20%22399162%22%2C%20%22399269%22%2C%20%22399270%22%2C%20%22399271%22%2C%20%22399272%22%2C%20%22399273%22%2C%20%22399274%22%2C%20%22399382%22%2C%20%22399383%22%2C%20%22399384%22%2C%20%22399385%22%2C%20%22399386%22%2C%20%22399387%22%2C%20%22399388%22%2C%20%22399389%22%2C%20%22399390%22%2C%20%22399391%22%2C%20%22399481%22%2C%20%22399482%22%2C%20%22399483%22%2C%20%22399484%22%2C%20%22399485%22%2C%20%22399486%22%2C%20%22399487%22%2C%20%22399488%22%2C%20%22399489%22%2C%20%22399587%22%2C%20%22399588%22%2C%20%22399589%22%2C%20%22399590%22%2C%20%22399591%22%2C%20%22399592%22%2C%20%22399593%22%2C%20%22399594%22%2C%20%22399595%22%2C%20%22399596%22%2C%20%22399701%22%2C%20%22399702%22%2C%20%22399703%22%2C%20%22399704%22%2C%20%22399705%22%2C%20%22399706%22%2C%20%22399707%22%2C%20%22399708%22%2C%20%22399709%22%2C%20%22399710%22%2C%20%22399711%22%2C%20%22399815%22%2C%20%22399816%22%2C%20%22399817%22%2C%20%22399818%22%2C%20%22399819%22%2C%20%22399820%22%2C%20%22399821%22%2C%20%22399822%22%2C%20%22399823%22%2C%20%22399923%22%2C%20%22399924%22%2C%20%22399925%22%2C%20%22399926%22%2C%20%22399927%22%2C%20%22399928%22%2C%20%22399929%22%2C%20%22399930%22%2C%20%22399931%22%2C%20%22399932%22%2C%20%22399933%22%2C%20%22399934%22%2C%20%22399935%22%2C%20%22399936%22%2C%20%22399937%22%2C%20%22400044%22%2C%20%22400045%22%2C%20%22400046%22%2C%20%22400047%22%2C%20%22400048%22%2C%20%22400049%22%2C%20%22400050%22%2C%20%22400051%22%2C%20%22400052%22%2C%20%22400053%22%2C%20%22400054%22%2C%20%22400055%22%2C%20%22400056%22%2C%20%22400160%22%2C%20%22400161%22%2C%20%22400162%22%2C%20%22400163%22%2C%20%22400164%22%2C%20%22400165%22%2C%20%22400166%22%2C%20%22400167%22%2C%20%22400168%22%2C%20%22400169%22%2C%20%22400170%22%2C%20%22400171%22%2C%20%22400172%22%2C%20%22400173%22%2C%20%22400174%22%2C%20%22400175%22%2C%20%22400176%22%2C%20%22400177%22%2C%20%22400178%22%2C%20%22400277%22%2C%20%22400278%22%2C%20%22400279%22%2C%20%22400280%22%2C%20%22400281%22%2C%20%22400282%22%2C%20%22400283%22%2C%20%22400284%22%2C%20%22400285%22%2C%20%22400286%22%2C%20%22400287%22%2C%20%22400288%22%2C%20%22400289%22%2C%20%22400290%22%2C%20%22400291%22%2C%20%22400292%22%2C%20%22400293%22%2C%20%22400294%22%2C%20%22400295%22%2C%20%22400296%22%2C%20%22400297%22%2C%20%22400298%22%2C%20%22400299%22%2C%20%22400403%22%2C%20%22400404%22%2C%20%22400405%22%2C%20%22400406%22%2C%20%22400407%22%2C%20%22400408%22%2C%20%22400409%22%2C%20%22400410%22%2C%20%22400411%22%2C%20%22400412%22%2C%20%22400413%22%2C%20%22400414%22%2C%20%22400415%22%2C%20%22400416%22%2C%20%22400417%22%2C%20%22400418%22%2C%20%22400419%22%2C%20%22400420%22%2C%20%22400421%22%2C%20%22400422%22%2C%20%22400423%22%2C%20%22400424%22%2C%20%22400425%22%2C%20%22400426%22%2C%20%22400427%22%2C%20%22400428%22%2C%20%22400429%22%2C%20%22400538%22%2C%20%22400539%22%2C%20%22400540%22%2C%20%22400541%22%2C%20%22400542%22%2C%20%22400543%22%2C%20%22400544%22%2C%20%22400545%22%2C%20%22400546%22%2C%20%22400547%22%2C%20%22400548%22%2C%20%22400549%22%2C%20%22400550%22%2C%20%22400551%22%2C%20%22400552%22%2C%20%22400553%22%2C%20%22400554%22%2C%20%22400555%22%2C%20%22400556%22%2C%20%22400557%22%2C%20%22400558%22%2C%20%22400559%22%2C%20%22400560%22%2C%20%22400561%22%2C%20%22400680%22%2C%20%22400681%22%2C%20%22400682%22%2C%20%22400683%22%2C%20%22400684%22%2C%20%22400685%22%2C%20%22400686%22%2C%20%22400687%22%2C%20%22400688%22%2C%20%22400689%22%2C%20%22400690%22%2C%20%22400691%22%2C%20%22400692%22%2C%20%22400693%22%2C%20%22400694%22%2C%20%22400695%22%2C%20%22400696%22%2C%20%22400697%22%2C%20%22400698%22%2C%20%22400699%22%2C%20%22400700%22%2C%20%22400701%22%2C%20%22400702%22%2C%20%22400703%22%2C%20%22400704%22%2C%20%22400705%22%2C%20%22400706%22%2C%20%22400707%22%2C%20%22400708%22%2C%20%22400709%22%2C%20%22400710%22%2C%20%22400815%22%2C%20%22400816%22%2C%20%22400817%22%2C%20%22400818%22%2C%20%22400819%22%2C%20%22400820%22%2C%20%22400821%22%2C%20%22400822%22%2C%20%22400823%22%2C%20%22400824%22%2C%20%22400825%22%2C%20%22400826%22%2C%20%22400827%22%2C%20%22400828%22%2C%20%22400829%22%2C%20%22400830%22%2C%20%22400831%22%2C%20%22400832%22%2C%20%22400833%22%2C%20%22400834%22%2C%20%22400835%22%2C%20%22400836%22%2C%20%22400837%22%2C%20%22400838%22%2C%20%22400839%22%2C%20%22400840%22%2C%20%22400841%22%2C%20%22400842%22%2C%20%22400843%22%2C%20%22400844%22%2C%20%22400845%22%2C%20%22400947%22%2C%20%22400948%22%2C%20%22400949%22%2C%20%22400950%22%2C%20%22400951%22%2C%20%22400952%22%2C%20%22400953%22%2C%20%22400954%22%2C%20%22400955%22%2C%20%22400956%22%2C%20%22400957%22%2C%20%22400958%22%2C%20%22400959%22%2C%20%22400960%22%2C%20%22400961%22%2C%20%22400962%22%2C%20%22400963%22%2C%20%22400964%22%2C%20%22400965%22%2C%20%22400966%22%2C%20%22400967%22%2C%20%22400968%22%2C%20%22400969%22%2C%20%22400970%22%2C%20%22401059%22%2C%20%22401060%22%2C%20%22401061%22%2C%20%22401062%22%2C%20%22401063%22%2C%20%22401064%22%2C%20%22401065%22%2C%20%22401066%22%2C%20%22401067%22%2C%20%22401068%22%2C%20%22401069%22%2C%20%22401070%22%2C%20%22401071%22%2C%20%22401072%22%2C%20%22401073%22%2C%20%22401074%22%2C%20%22401075%22%2C%20%22401076%22%2C%20%22401077%22%2C%20%22401078%22%2C%20%22401079%22%2C%20%22401080%22%2C%20%22401081%22%2C%20%22401172%22%2C%20%22401173%22%2C%20%22401174%22%2C%20%22401175%22%2C%20%22401176%22%2C%20%22401177%22%2C%20%22401178%22%2C%20%22401179%22%2C%20%22401180%22%2C%20%22401181%22%2C%20%22401182%22%2C%20%22401183%22%2C%20%22401184%22%2C%20%22401185%22%2C%20%22401186%22%2C%20%22401187%22%2C%20%22401188%22%2C%20%22401289%22%2C%20%22401290%22%2C%20%22401291%22%2C%20%22401292%22%2C%20%22401293%22%2C%20%22401294%22%2C%20%22401295%22%2C%20%22401296%22%2C%20%22401297%22%2C%20%22401298%22%2C%20%22401299%22%2C%20%22401300%22%2C%20%22401301%22%2C%20%22401393%22%2C%20%22401394%22%2C%20%22401395%22%2C%20%22401396%22%2C%20%22401397%22%2C%20%22401398%22%2C%20%22401399%22%2C%20%22401400%22%2C%20%22401401%22%2C%20%22401402%22%2C%20%22401403%22%2C%20%22401485%22%2C%20%22401486%22%2C%20%22401487%22%2C%20%22401488%22%2C%20%22401489%22%2C%20%22401490%22%2C%20%22401491%22%2C%20%22401492%22%2C%20%22401493%22%2C%20%22401586%22%2C%20%22401587%22%2C%20%22401588%22%2C%20%22401589%22%2C%20%22401590%22%2C%20%22401591%22%2C%20%22401592%22%2C%20%22401593%22%2C%20%22401683%22%2C%20%22401684%22%2C%20%22401685%22%2C%20%22401686%22%2C%20%22401687%22%2C%20%22401781%22%2C%20%22401782%22%2C%20%22401784%22%5D%7D%2C%20%22type%22%3A%20%22Feature%22%7D%2C%20%7B%22bbox%22%3A%20%5B-6.625118305724936%2C%2037.33973456271943%2C%20-6.602813022282612%2C%2037.35116228497075%5D%2C%20%22geometry%22%3A%20%7B%22coordinates%22%3A%20%5B%5B%5B-6.623018131153208%2C%2037.34903912000232%5D%2C%20%5B-6.6187219082466155%2C%2037.35116228497075%5D%2C%20%5B-6.615076384880485%2C%2037.35043537206653%5D%2C%20%5B-6.612197443395206%2C%2037.349265646556326%5D%2C%20%5B-6.6099389552878085%2C%2037.347343182537635%5D%2C%20%5B-6.607463518997272%2C%2037.34637063801815%5D%2C%20%5B-6.605464511251577%2C%2037.34575035688762%5D%2C%20%5B-6.603594123927447%2C%2037.345073710147425%5D%2C%20%5B-6.602813022282612%2C%2037.34383974174921%5D%2C%20%5B-6.6035749765469705%2C%2037.341929818984106%5D%2C%20%5B-6.60414527636052%2C%2037.34013055405286%5D%2C%20%5B-6.606817481443994%2C%2037.33973456271943%5D%2C%20%5B-6.6093331508133435%2C%2037.34018181892483%5D%2C%20%5B-6.611473155425604%2C%2037.34100735878645%5D%2C%20%5B-6.613890443912114%2C%2037.34213882417209%5D%2C%20%5B-6.61714731271797%2C%2037.342982498404915%5D%2C%20%5B-6.619516956779412%2C%2037.3431195575768%5D%2C%20%5B-6.62131947723805%2C%2037.34238302301265%5D%2C%20%5B-6.6222950754093%2C%2037.34219589329886%5D%2C%20%5B-6.624190715107406%2C%2037.34339554239675%5D%2C%20%5B-6.624278858354261%2C%2037.345227104484756%5D%2C%20%5B-6.625118305724936%2C%2037.346301909214986%5D%2C%20%5B-6.625085508502107%2C%2037.346984214020075%5D%2C%20%5B-6.624777925400571%2C%2037.34741291209807%5D%2C%20%5B-6.623018131153208%2C%2037.34903912000232%5D%5D%5D%2C%20%22type%22%3A%20%22Polygon%22%7D%2C%20%22id%22%3A%20%224%22%2C%20%22properties%22%3A%20%7B%22Agregado%22%3A%20%225%22%2C%20%22Asc%22%3A%20%5B%22362733%22%2C%20%22362734%22%2C%20%22362735%22%2C%20%22362736%22%2C%20%22362770%22%2C%20%22362771%22%2C%20%22362772%22%2C%20%22362773%22%2C%20%22362805%22%2C%20%22362806%22%2C%20%22362807%22%2C%20%22362808%22%2C%20%22362809%22%2C%20%22362829%22%2C%20%22362830%22%2C%20%22362831%22%2C%20%22362832%22%2C%20%22362859%22%2C%20%22362860%22%2C%20%22362861%22%2C%20%22362862%22%2C%20%22362895%22%2C%20%22362896%22%2C%20%22362897%22%2C%20%22362898%22%2C%20%22362899%22%2C%20%22362928%22%2C%20%22362929%22%2C%20%22362930%22%2C%20%22362958%22%2C%20%22362959%22%2C%20%22362960%22%2C%20%22362961%22%2C%20%22362962%22%2C%20%22362997%22%2C%20%22362998%22%2C%20%22362999%22%2C%20%22363000%22%2C%20%22363001%22%2C%20%22363024%22%2C%20%22363025%22%2C%20%22363026%22%2C%20%22363027%22%2C%20%22363028%22%2C%20%22363049%22%2C%20%22363050%22%2C%20%22363051%22%2C%20%22363052%22%2C%20%22363053%22%2C%20%22363054%22%2C%20%22363055%22%2C%20%22363056%22%2C%20%22363057%22%2C%20%22363079%22%2C%20%22363080%22%2C%20%22363081%22%2C%20%22363082%22%2C%20%22363083%22%2C%20%22363084%22%2C%20%22363085%22%2C%20%22363086%22%2C%20%22363116%22%2C%20%22363117%22%2C%20%22363118%22%2C%20%22363119%22%2C%20%22363120%22%2C%20%22363121%22%2C%20%22363149%22%2C%20%22363150%22%2C%20%22363151%22%2C%20%22363152%22%2C%20%22363153%22%2C%20%22363154%22%2C%20%22363155%22%2C%20%22363187%22%2C%20%22363188%22%2C%20%22363189%22%2C%20%22363190%22%2C%20%22363191%22%2C%20%22363192%22%2C%20%22363193%22%2C%20%22363194%22%2C%20%22363195%22%2C%20%22363196%22%2C%20%22363230%22%2C%20%22363231%22%2C%20%22363232%22%2C%20%22363233%22%2C%20%22363234%22%2C%20%22363235%22%2C%20%22363236%22%2C%20%22363237%22%2C%20%22363238%22%2C%20%22363264%22%2C%20%22363265%22%2C%20%22363266%22%2C%20%22363267%22%2C%20%22363268%22%2C%20%22363269%22%2C%20%22363270%22%2C%20%22363271%22%2C%20%22363272%22%2C%20%22363302%22%2C%20%22363303%22%2C%20%22363304%22%2C%20%22363305%22%2C%20%22363306%22%2C%20%22363307%22%2C%20%22363308%22%2C%20%22363309%22%2C%20%22363333%22%2C%20%22363334%22%2C%20%22363335%22%2C%20%22363336%22%2C%20%22363337%22%2C%20%22363338%22%2C%20%22363339%22%2C%20%22363340%22%2C%20%22363367%22%2C%20%22363368%22%2C%20%22363369%22%2C%20%22363370%22%2C%20%22363371%22%2C%20%22363372%22%2C%20%22363373%22%2C%20%22363374%22%2C%20%22363375%22%2C%20%22363376%22%2C%20%22363413%22%2C%20%22363414%22%2C%20%22363415%22%2C%20%22363416%22%2C%20%22363417%22%2C%20%22363418%22%2C%20%22363419%22%2C%20%22363420%22%2C%20%22363421%22%2C%20%22363453%22%2C%20%22363454%22%2C%20%22363455%22%2C%20%22363456%22%2C%20%22363457%22%2C%20%22363458%22%2C%20%22363459%22%2C%20%22363460%22%2C%20%22363461%22%2C%20%22363462%22%2C%20%22363484%22%2C%20%22363485%22%2C%20%22363486%22%2C%20%22363487%22%2C%20%22363488%22%2C%20%22363489%22%2C%20%22363490%22%2C%20%22363491%22%2C%20%22363492%22%2C%20%22363493%22%2C%20%22363516%22%2C%20%22363517%22%2C%20%22363518%22%2C%20%22363519%22%2C%20%22363520%22%2C%20%22363521%22%2C%20%22363522%22%2C%20%22363523%22%2C%20%22363524%22%2C%20%22363550%22%2C%20%22363551%22%2C%20%22363576%22%2C%20%22363601%22%5D%2C%20%22Desc%22%3A%20%5B%22397979%22%2C%20%22397980%22%2C%20%22398069%22%2C%20%22398070%22%2C%20%22398071%22%2C%20%22398141%22%2C%20%22398142%22%2C%20%22398143%22%2C%20%22398144%22%2C%20%22398145%22%2C%20%22398146%22%2C%20%22398147%22%2C%20%22398148%22%2C%20%22398149%22%2C%20%22398150%22%2C%20%22398218%22%2C%20%22398219%22%2C%20%22398220%22%2C%20%22398221%22%2C%20%22398222%22%2C%20%22398223%22%2C%20%22398224%22%2C%20%22398225%22%2C%20%22398226%22%2C%20%22398227%22%2C%20%22398317%22%2C%20%22398318%22%2C%20%22398319%22%2C%20%22398320%22%2C%20%22398321%22%2C%20%22398322%22%2C%20%22398323%22%2C%20%22398324%22%2C%20%22398325%22%2C%20%22398326%22%2C%20%22398406%22%2C%20%22398407%22%2C%20%22398408%22%2C%20%22398409%22%2C%20%22398410%22%2C%20%22398411%22%2C%20%22398412%22%2C%20%22398413%22%2C%20%22398414%22%2C%20%22398519%22%2C%20%22398520%22%2C%20%22398521%22%2C%20%22398522%22%2C%20%22398523%22%2C%20%22398524%22%2C%20%22398525%22%2C%20%22398526%22%2C%20%22398527%22%2C%20%22398528%22%2C%20%22398529%22%2C%20%22398621%22%2C%20%22398622%22%2C%20%22398623%22%2C%20%22398624%22%2C%20%22398625%22%2C%20%22398626%22%2C%20%22398627%22%2C%20%22398628%22%2C%20%22398718%22%2C%20%22398719%22%2C%20%22398720%22%2C%20%22398721%22%2C%20%22398722%22%2C%20%22398723%22%2C%20%22398724%22%2C%20%22398725%22%2C%20%22398726%22%2C%20%22398727%22%2C%20%22398728%22%2C%20%22398835%22%2C%20%22398836%22%2C%20%22398837%22%2C%20%22398838%22%2C%20%22398839%22%2C%20%22398840%22%2C%20%22398841%22%2C%20%22398842%22%2C%20%22398843%22%2C%20%22398844%22%2C%20%22398845%22%2C%20%22398948%22%2C%20%22398949%22%2C%20%22398950%22%2C%20%22398951%22%2C%20%22398952%22%2C%20%22398953%22%2C%20%22398954%22%2C%20%22398955%22%2C%20%22398956%22%2C%20%22398957%22%2C%20%22399051%22%2C%20%22399052%22%2C%20%22399053%22%2C%20%22399054%22%2C%20%22399055%22%2C%20%22399056%22%2C%20%22399057%22%2C%20%22399058%22%2C%20%22399059%22%2C%20%22399163%22%2C%20%22399164%22%2C%20%22399165%22%2C%20%22399166%22%2C%20%22399167%22%2C%20%22399168%22%2C%20%22399169%22%2C%20%22399170%22%2C%20%22399171%22%2C%20%22399172%22%2C%20%22399173%22%2C%20%22399276%22%2C%20%22399277%22%2C%20%22399278%22%2C%20%22399279%22%2C%20%22399280%22%2C%20%22399281%22%2C%20%22399282%22%2C%20%22399283%22%2C%20%22399284%22%2C%20%22399285%22%2C%20%22399286%22%2C%20%22399287%22%2C%20%22399392%22%2C%20%22399393%22%2C%20%22399394%22%2C%20%22399395%22%2C%20%22399396%22%2C%20%22399397%22%2C%20%22399398%22%2C%20%22399399%22%2C%20%22399400%22%2C%20%22399401%22%2C%20%22399402%22%2C%20%22399491%22%2C%20%22399492%22%2C%20%22399493%22%2C%20%22399494%22%2C%20%22399495%22%2C%20%22399496%22%2C%20%22399497%22%2C%20%22399498%22%2C%20%22399499%22%2C%20%22399500%22%2C%20%22399501%22%2C%20%22399502%22%2C%20%22399597%22%2C%20%22399598%22%2C%20%22399599%22%2C%20%22399600%22%2C%20%22399601%22%2C%20%22399602%22%2C%20%22399603%22%2C%20%22399604%22%2C%20%22399605%22%2C%20%22399606%22%2C%20%22399712%22%2C%20%22399713%22%2C%20%22399714%22%2C%20%22399715%22%2C%20%22399716%22%2C%20%22399717%22%2C%20%22399718%22%2C%20%22399719%22%2C%20%22399824%22%2C%20%22399825%22%2C%20%22399826%22%2C%20%22399827%22%2C%20%22399828%22%2C%20%22399829%22%2C%20%22399830%22%2C%20%22399831%22%2C%20%22399832%22%2C%20%22399939%22%2C%20%22399940%22%2C%20%22399941%22%2C%20%22399942%22%2C%20%22399943%22%2C%20%22399944%22%2C%20%22399945%22%2C%20%22399946%22%2C%20%22400058%22%2C%20%22400059%22%2C%20%22400060%22%2C%20%22400061%22%2C%20%22400062%22%2C%20%22400063%22%2C%20%22400179%22%2C%20%22400180%22%2C%20%22400181%22%2C%20%22400182%22%2C%20%22400300%22%2C%20%22400301%22%2C%20%22400302%22%2C%20%22400430%22%2C%20%22400431%22%2C%20%22400432%22%2C%20%22400433%22%2C%20%22400434%22%2C%20%22400435%22%2C%20%22400436%22%2C%20%22400565%22%2C%20%22400566%22%2C%20%22400567%22%2C%20%22400568%22%2C%20%22400569%22%2C%20%22400570%22%2C%20%22400716%22%2C%20%22400717%22%2C%20%22400858%22%5D%7D%2C%20%22type%22%3A%20%22Feature%22%7D%5D%2C%20%22type%22%3A%20%22FeatureCollection%22%7D%29%3B%0A%0A%20%20%20%20%20%20%20%20%0A%20%20%20%20%0A%20%20%20%20geo_json_d55aea7d7a4b40b9b84ff4d100d1b0fe.bindTooltip%28%0A%20%20%20%20function%28layer%29%7B%0A%20%20%20%20let%20div%20%3D%20L.DomUtil.create%28%27div%27%29%3B%0A%20%20%20%20%0A%20%20%20%20let%20handleObject%20%3D%20feature%3D%3Etypeof%28feature%29%3D%3D%27object%27%20%3F%20JSON.stringify%28feature%29%20%3A%20feature%3B%0A%20%20%20%20let%20fields%20%3D%20%5B%22Agregado%22%5D%3B%0A%20%20%20%20let%20aliases%20%3D%20%5B%22Agregado%22%5D%3B%0A%20%20%20%20let%20table%20%3D%20%27%3Ctable%3E%27%20%2B%0A%20%20%20%20%20%20%20%20String%28%0A%20%20%20%20%20%20%20%20fields.map%28%0A%20%20%20%20%20%20%20%20%28v%2Ci%29%3D%3E%0A%20%20%20%20%20%20%20%20%60%3Ctr%3E%0A%20%20%20%20%20%20%20%20%20%20%20%20%3Cth%3E%24%7Baliases%5Bi%5D%7D%3C/th%3E%0A%20%20%20%20%20%20%20%20%20%20%20%20%0A%20%20%20%20%20%20%20%20%20%20%20%20%3Ctd%3E%24%7BhandleObject%28layer.feature.properties%5Bv%5D%29%7D%3C/td%3E%0A%20%20%20%20%20%20%20%20%3C/tr%3E%60%29.join%28%27%27%29%29%0A%20%20%20%20%2B%27%3C/table%3E%27%3B%0A%20%20%20%20div.innerHTML%3Dtable%3B%0A%20%20%20%20%0A%20%20%20%20return%20div%0A%20%20%20%20%7D%0A%20%20%20%20%2C%7B%22className%22%3A%20%22foliumtooltip%22%2C%20%22sticky%22%3A%20true%7D%29%3B%0A%20%20%20%20%20%20%20%20%20%20%20%20%20%20%20%20%20%20%20%20%20%0A%20%20%20%20%0A%20%20%20%20%20%20%20%20%20%20%20%20var%20layer_control_13b1eddc8321460dadbbcc3fa9de668e%20%3D%20%7B%0A%20%20%20%20%20%20%20%20%20%20%20%20%20%20%20%20base_layers%20%3A%20%7B%0A%20%20%20%20%20%20%20%20%20%20%20%20%20%20%20%20%20%20%20%20%22openstreetmap%22%20%3A%20tile_layer_2253d6b286bc4d48b65e0431da18c871%2C%0A%20%20%20%20%20%20%20%20%20%20%20%20%20%20%20%20%20%20%20%20%22ESRI-Imagen%22%20%3A%20tile_layer_9af763559ace4ea2b4a1e958c55eb390%2C%0A%20%20%20%20%20%20%20%20%20%20%20%20%20%20%20%20%20%20%20%20%22ESRI-Callejero%22%20%3A%20tile_layer_acefcc54f9164cad886bb7235c7f77ce%2C%0A%20%20%20%20%20%20%20%20%20%20%20%20%20%20%20%20%20%20%20%20%22Stamen%20Terrain%22%20%3A%20tile_layer_3114eef0d83b4d77b0e2ad49e770f792%2C%0A%20%20%20%20%20%20%20%20%20%20%20%20%20%20%20%20%20%20%20%20%22Blank%22%20%3A%20tile_layer_b7c69a572aa54e25a20f295d36e3cf72%2C%0A%20%20%20%20%20%20%20%20%20%20%20%20%20%20%20%20%7D%2C%0A%20%20%20%20%20%20%20%20%20%20%20%20%20%20%20%20overlays%20%3A%20%20%7B%0A%20%20%20%20%20%20%20%20%20%20%20%20%20%20%20%20%20%20%20%20%22Agregados%22%20%3A%20geo_json_d55aea7d7a4b40b9b84ff4d100d1b0fe%2C%0A%20%20%20%20%20%20%20%20%20%20%20%20%20%20%20%20%7D%2C%0A%20%20%20%20%20%20%20%20%20%20%20%20%7D%3B%0A%20%20%20%20%20%20%20%20%20%20%20%20L.control.layers%28%0A%20%20%20%20%20%20%20%20%20%20%20%20%20%20%20%20layer_control_13b1eddc8321460dadbbcc3fa9de668e.base_layers%2C%0A%20%20%20%20%20%20%20%20%20%20%20%20%20%20%20%20layer_control_13b1eddc8321460dadbbcc3fa9de668e.overlays%2C%0A%20%20%20%20%20%20%20%20%20%20%20%20%20%20%20%20%7B%22autoZIndex%22%3A%20true%2C%20%22collapsed%22%3A%20true%2C%20%22position%22%3A%20%22topright%22%7D%0A%20%20%20%20%20%20%20%20%20%20%20%20%29.addTo%28map_2d67af05160f4c21926eca8f0c1be9e8%29%3B%0A%20%20%20%20%20%20%20%20%20%20%20%20tile_layer_9af763559ace4ea2b4a1e958c55eb390.remove%28%29%3B%0A%20%20%20%20%20%20%20%20%20%20%20%20tile_layer_acefcc54f9164cad886bb7235c7f77ce.remove%28%29%3B%0A%20%20%20%20%20%20%20%20%20%20%20%20tile_layer_3114eef0d83b4d77b0e2ad49e770f792.remove%28%29%3B%0A%20%20%20%20%20%20%20%20%20%20%20%20tile_layer_b7c69a572aa54e25a20f295d36e3cf72.remove%28%29%3B%0A%20%20%20%20%20%20%20%20%0A%3C/script%3E onload=\"this.contentDocument.open();this.contentDocument.write(    decodeURIComponent(this.getAttribute('data-html')));this.contentDocument.close();\" allowfullscreen webkitallowfullscreen mozallowfullscreen></iframe></div></div>"
      ],
      "text/plain": [
       "<folium.folium.Map at 0x250f00c9b50>"
      ]
     },
     "execution_count": 7,
     "metadata": {},
     "output_type": "execute_result"
    }
   ],
   "source": [
    "Doñana.mapa()"
   ]
  }
 ],
 "metadata": {
  "kernelspec": {
   "display_name": "Python 3 (ipykernel)",
   "language": "python",
   "name": "python3"
  },
  "language_info": {
   "codemirror_mode": {
    "name": "ipython",
    "version": 3
   },
   "file_extension": ".py",
   "mimetype": "text/x-python",
   "name": "python",
   "nbconvert_exporter": "python",
   "pygments_lexer": "ipython3",
   "version": "3.8.11"
  }
 },
 "nbformat": 4,
 "nbformat_minor": 5
}
