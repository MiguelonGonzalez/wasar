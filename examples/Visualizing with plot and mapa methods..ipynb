{
 "cells": [
  {
   "cell_type": "code",
   "execution_count": null,
   "id": "0604ed54",
   "metadata": {},
   "outputs": [],
   "source": [
    "import dinsar\n",
    "\n",
    "# Para centrar las gráficas salientes en un notebook de Jupyter.\n",
    "from IPython.core.display import HTML\n",
    "HTML(\"\"\"<style>.output_png {display: table-cell; text-align: center; vertical-align: middle;}</style>\"\"\")"
   ]
  }
 ],
 "metadata": {
  "kernelspec": {
   "display_name": "Python 3 (ipykernel)",
   "language": "python",
   "name": "python3"
  },
  "language_info": {
   "codemirror_mode": {
    "name": "ipython",
    "version": 3
   },
   "file_extension": ".py",
   "mimetype": "text/x-python",
   "name": "python",
   "nbconvert_exporter": "python",
   "pygments_lexer": "ipython3",
   "version": "3.8.11"
  }
 },
 "nbformat": 4,
 "nbformat_minor": 5
}
