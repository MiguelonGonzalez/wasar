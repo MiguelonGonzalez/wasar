{
 "cells": [
  {
   "cell_type": "code",
   "execution_count": 1,
   "id": "91a03f03",
   "metadata": {
    "scrolled": true
   },
   "outputs": [
    {
     "name": "stdout",
     "output_type": "stream",
     "text": [
      "Geometría añadida correctamente.\n",
      "Geometría añadida correctamente.\n"
     ]
    },
    {
     "data": {
      "text/html": [
       "<style>.output_png {display: table-cell; text-align: center; vertical-align: middle;}</style>"
      ],
      "text/plain": [
       "<IPython.core.display.HTML object>"
      ]
     },
     "execution_count": 1,
     "metadata": {},
     "output_type": "execute_result"
    }
   ],
   "source": [
    "import dinsar\n",
    "import pandas as pd\n",
    "import numpy as np\n",
    "import geopandas as gpd\n",
    "import matplotlib.pyplot as plt\n",
    "\n",
    "\n",
    "Doñana = dinsar.example.get_model()\n",
    "\n",
    "# Para centrar las gráficas salientes en un notebook de Jupyter.\n",
    "from IPython.core.display import HTML\n",
    "HTML(\"\"\"<style>.output_png {display: table-cell; text-align: center; vertical-align: middle;}</style>\"\"\")"
   ]
  },
  {
   "cell_type": "code",
   "execution_count": 2,
   "id": "98c4b06c",
   "metadata": {},
   "outputs": [
    {
     "name": "stdout",
     "output_type": "stream",
     "text": [
      "Geometría añadida correctamente.\n"
     ]
    }
   ],
   "source": [
    "from shapely.geometry import Point\n",
    "import random\n",
    "\n",
    "x1, y1, x2, y2 = Doñana.get('Asc').gdf.total_bounds\n",
    "\n",
    "random_point = lambda x1, y1, x2, y2 : Point(random.uniform(x1, x2), random.uniform(y1, y2))\n",
    "\n",
    "# Definición de la base de datos (pandas.DataFrame):\n",
    "columns, values = [i for i in 'ABCDE'], [np.random.random(60) for i in range(5)]\n",
    "df_table = {i:j for i,j in zip(columns, values)}\n",
    "df = pd.DataFrame(df_table, index=pd.date_range(start='2015', end='2020', freq='M'))\n",
    "df = df.melt(var_name='Nombre', value_name='Valores', ignore_index=False)\n",
    "df.index.name = 'Fechas'\n",
    "df.reset_index(inplace=True)\n",
    "\n",
    "# Definición de un archivo espacial\n",
    "table = {'Nombre':[i for i in 'ABCDE'],\n",
    "         'geometry':[random_point(x1, y1, x2, y2) for i in range(5)]}\n",
    "gdf = gpd.GeoDataFrame(table, crs=25830)\n",
    "\n",
    "gps = dinsar.DataBase(df, name='gps', units='cm', color='black')\n",
    "gps.append_geometry(gdf)\n",
    "Doñana.append(gps)"
   ]
  },
  {
   "cell_type": "code",
   "execution_count": 1,
   "id": "397af870",
   "metadata": {},
   "outputs": [
    {
     "ename": "NameError",
     "evalue": "name 'Doñana' is not defined",
     "output_type": "error",
     "traceback": [
      "\u001b[1;31m---------------------------------------------------------------------------\u001b[0m",
      "\u001b[1;31mNameError\u001b[0m                                 Traceback (most recent call last)",
      "\u001b[1;32m~\\AppData\\Local\\Temp/ipykernel_2232/1276700181.py\u001b[0m in \u001b[0;36m<module>\u001b[1;34m\u001b[0m\n\u001b[1;32m----> 1\u001b[1;33m \u001b[0mDoñana\u001b[0m\u001b[1;33m.\u001b[0m\u001b[0mstudy\u001b[0m\u001b[1;33m(\u001b[0m\u001b[1;36m2\u001b[0m\u001b[1;33m)\u001b[0m\u001b[1;33m.\u001b[0m\u001b[0mplot\u001b[0m\u001b[1;33m(\u001b[0m\u001b[1;33m)\u001b[0m \u001b[1;31m# Plotear las series temporales del agregado 2\u001b[0m\u001b[1;33m\u001b[0m\u001b[1;33m\u001b[0m\u001b[0m\n\u001b[0m",
      "\u001b[1;31mNameError\u001b[0m: name 'Doñana' is not defined"
     ]
    }
   ],
   "source": [
    "Doñana.study(2).plot() # Plotear las series temporales del agregado 2"
   ]
  },
  {
   "cell_type": "code",
   "execution_count": null,
   "id": "38bdb282",
   "metadata": {},
   "outputs": [],
   "source": [
    "Doñana.study(2).mapa() # Representar espacialmente el agregado 2 y sus PS."
   ]
  },
  {
   "cell_type": "code",
   "execution_count": null,
   "id": "cffa8bc2",
   "metadata": {},
   "outputs": [],
   "source": [
    " # Cojo los cinco primeros PS del Dataset 'Ascending' (dessde fuera del modelo ) y calculo su deformación promedio\n",
    "ps = Asc.ps[0:5] \n",
    "Asc.subset(ps).plot(plot_average=True)"
   ]
  },
  {
   "cell_type": "code",
   "execution_count": null,
   "id": "795b722b",
   "metadata": {},
   "outputs": [],
   "source": [
    "# Cojo el primer piezómetro de la base de datos de piezometría y ploteo su serie temporal\n",
    "piezo = bbdd.piezos[0]\n",
    "bbdd.plot(piezo)\n",
    "\n",
    "# A través del método 'take' accedo al array con su serie tempral: --> bbdd.take(piezo)"
   ]
  },
  {
   "cell_type": "code",
   "execution_count": null,
   "id": "e355899b",
   "metadata": {},
   "outputs": [],
   "source": [
    "# Selecciono la estación de Almonte y ploteo su serie temporal según su desviación acumulada\n",
    "# Puedo ver qué estaciones hay en la base de datos así: --> precipi.estaciones\n",
    "precipi.plot('Almonte', values='dsv')"
   ]
  },
  {
   "cell_type": "code",
   "execution_count": null,
   "id": "ae584a7f",
   "metadata": {},
   "outputs": [],
   "source": [
    "precipi.estaciones"
   ]
  }
 ],
 "metadata": {
  "kernelspec": {
   "display_name": "Python 3 (ipykernel)",
   "language": "python",
   "name": "python3"
  },
  "language_info": {
   "codemirror_mode": {
    "name": "ipython",
    "version": 3
   },
   "file_extension": ".py",
   "mimetype": "text/x-python",
   "name": "python",
   "nbconvert_exporter": "python",
   "pygments_lexer": "ipython3",
   "version": "3.8.11"
  }
 },
 "nbformat": 4,
 "nbformat_minor": 5
}
