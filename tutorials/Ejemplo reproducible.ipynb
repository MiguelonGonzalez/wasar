{
 "cells": [
  {
   "cell_type": "markdown",
   "id": "f6a09d26",
   "metadata": {},
   "source": [
    "## Instalación\n",
    "#### Tener instalado python.\n",
    "Lo más recomendable es haberlo instalado a través de Anaconda, ya que es la plataforma de distribución de Python más completa\n",
    "\n",
    "<b>Anaconda<b/>: https://www.anaconda.com/products/individual\n",
    "\n",
    "A través de la consola de Anaconda (Anaconda prompt) se realiza la instalación de dinsar.\n",
    "\n",
    "Es recomendable generar un nuevo ambiente puesto que geopandas puede entablar conflicto con las versiones de otras librerías. Lo puedes hacer a través de la consola de anaconda, y tendrás que instalar jupyter y spyder si quieres usar este ambiente en esos dos entornos de desarrollo.\n",
    "Para más información sobre cómo crear un nuevo ambiente: https://docs.conda.io/projects/conda/en/latest/user-guide/tasks/manage-environments.html#creating-an-environment-with-commands\n",
    "\n",
    "\n",
    "#### Instalación de dinsar\n",
    "pip install dinsar\n",
    "\n",
    "#### Documentación\n",
    "Enlace a github, que es donde colgaré el código y los ejemplos de uso."
   ]
  },
  {
   "cell_type": "code",
   "execution_count": 1,
   "id": "91a03f03",
   "metadata": {
    "scrolled": true
   },
   "outputs": [
    {
     "name": "stdout",
     "output_type": "stream",
     "text": [
      "Geometría añadida correctamente.\n",
      "Geometría añadida correctamente.\n"
     ]
    },
    {
     "data": {
      "text/html": [
       "<style>.output_png {display: table-cell; text-align: center; vertical-align: middle;}</style>"
      ],
      "text/plain": [
       "<IPython.core.display.HTML object>"
      ]
     },
     "execution_count": 1,
     "metadata": {},
     "output_type": "execute_result"
    }
   ],
   "source": [
    "import dinsar\n",
    "import pandas as pd\n",
    "import numpy as np\n",
    "import geopandas as gpd\n",
    "import matplotlib.pyplot as plt\n",
    "\n",
    "\n",
    "Doñana = dinsar.example.get_model()\n",
    "\n",
    "# Para centrar las gráficas salientes en un notebook de Jupyter.\n",
    "from IPython.core.display import HTML\n",
    "HTML(\"\"\"<style>.output_png {display: table-cell; text-align: center; vertical-align: middle;}</style>\"\"\")"
   ]
  },
  {
   "cell_type": "code",
   "execution_count": 2,
   "id": "98c4b06c",
   "metadata": {},
   "outputs": [
    {
     "name": "stdout",
     "output_type": "stream",
     "text": [
      "Geometría añadida correctamente.\n"
     ]
    }
   ],
   "source": [
    "from shapely.geometry import Point\n",
    "import random\n",
    "\n",
    "x1, y1, x2, y2 = Doñana.get('Asc').gdf.total_bounds\n",
    "\n",
    "random_point = lambda x1, y1, x2, y2 : Point(random.uniform(x1, x2), random.uniform(y1, y2))\n",
    "\n",
    "# Definición de la base de datos (pandas.DataFrame):\n",
    "columns, values = [i for i in 'ABCDE'], [np.random.random(60) for i in range(5)]\n",
    "df_table = {i:j for i,j in zip(columns, values)}\n",
    "df = pd.DataFrame(df_table, index=pd.date_range(start='2015', end='2020', freq='M'))\n",
    "df = df.melt(var_name='Nombre', value_name='Valores', ignore_index=False)\n",
    "df.index.name = 'Fechas'\n",
    "df.reset_index(inplace=True)\n",
    "\n",
    "# Definición de un archivo espacial\n",
    "table = {'Nombre':[i for i in 'ABCDE'],\n",
    "         'geometry':[random_point(x1, y1, x2, y2) for i in range(5)]}\n",
    "gdf = gpd.GeoDataFrame(table, crs=25830)\n",
    "\n",
    "gps = dinsar.DataBase(df, name='gps', units='cm', color='black')\n",
    "gps.append_geometry(gdf)\n",
    "Doñana.append(gps)"
   ]
  },
  {
   "cell_type": "code",
   "execution_count": 6,
   "id": "397af870",
   "metadata": {},
   "outputs": [
    {
     "ename": "ValueError",
     "evalue": "asdf no es válido. Opciones: ['sentinel-asc', 'sentinel-desc', 'piezometria_bd', 'piezometria_shp', 'precipitacion_bd', 'precipitacion_shp', 'agregados']",
     "output_type": "error",
     "traceback": [
      "\u001b[1;31m---------------------------------------------------------------------------\u001b[0m",
      "\u001b[1;31mValueError\u001b[0m                                Traceback (most recent call last)",
      "\u001b[1;32m~\\AppData\\Local\\Temp/ipykernel_1092/4170216452.py\u001b[0m in \u001b[0;36m<module>\u001b[1;34m\u001b[0m\n\u001b[1;32m----> 1\u001b[1;33m \u001b[0mdinsar\u001b[0m\u001b[1;33m.\u001b[0m\u001b[0mexample\u001b[0m\u001b[1;33m.\u001b[0m\u001b[0mget_path\u001b[0m\u001b[1;33m(\u001b[0m\u001b[1;34m'asdf'\u001b[0m\u001b[1;33m)\u001b[0m\u001b[1;33m\u001b[0m\u001b[1;33m\u001b[0m\u001b[0m\n\u001b[0m",
      "\u001b[1;32m~\\anaconda3\\envs\\DANA\\lib\\site-packages\\dinsar\\example\\__init__.py\u001b[0m in \u001b[0;36mget_path\u001b[1;34m(name)\u001b[0m\n\u001b[0;32m     33\u001b[0m                 \u001b[1;32mreturn\u001b[0m \u001b[0mos\u001b[0m\u001b[1;33m.\u001b[0m\u001b[0mpath\u001b[0m\u001b[1;33m.\u001b[0m\u001b[0mabspath\u001b[0m\u001b[1;33m(\u001b[0m\u001b[0mos\u001b[0m\u001b[1;33m.\u001b[0m\u001b[0mpath\u001b[0m\u001b[1;33m.\u001b[0m\u001b[0mjoin\u001b[0m\u001b[1;33m(\u001b[0m\u001b[0m_module_path\u001b[0m\u001b[1;33m,\u001b[0m \u001b[1;34m'Data'\u001b[0m\u001b[1;33m,\u001b[0m \u001b[0mpath\u001b[0m\u001b[1;33m)\u001b[0m\u001b[1;33m)\u001b[0m\u001b[1;33m\u001b[0m\u001b[1;33m\u001b[0m\u001b[0m\n\u001b[0;32m     34\u001b[0m \u001b[1;33m\u001b[0m\u001b[0m\n\u001b[1;32m---> 35\u001b[1;33m         \u001b[1;32melse\u001b[0m\u001b[1;33m:\u001b[0m\u001b[1;33m\u001b[0m\u001b[1;33m\u001b[0m\u001b[0m\n\u001b[0m\u001b[0;32m     36\u001b[0m                 \u001b[0mmsg\u001b[0m \u001b[1;33m=\u001b[0m \u001b[1;34mf\"{name} no es válido. Opciones: {list(files.keys())}\"\u001b[0m\u001b[1;33m\u001b[0m\u001b[1;33m\u001b[0m\u001b[0m\n\u001b[0;32m     37\u001b[0m                 \u001b[1;32mraise\u001b[0m \u001b[0mValueError\u001b[0m\u001b[1;33m(\u001b[0m\u001b[0mmsg\u001b[0m\u001b[1;33m)\u001b[0m\u001b[1;33m\u001b[0m\u001b[1;33m\u001b[0m\u001b[0m\n",
      "\u001b[1;31mValueError\u001b[0m: asdf no es válido. Opciones: ['sentinel-asc', 'sentinel-desc', 'piezometria_bd', 'piezometria_shp', 'precipitacion_bd', 'precipitacion_shp', 'agregados']"
     ]
    }
   ],
   "source": [
    "dinsar.example.get_path('asdf')"
   ]
  }
 ],
 "metadata": {
  "kernelspec": {
   "display_name": "Python 3 (ipykernel)",
   "language": "python",
   "name": "python3"
  },
  "language_info": {
   "codemirror_mode": {
    "name": "ipython",
    "version": 3
   },
   "file_extension": ".py",
   "mimetype": "text/x-python",
   "name": "python",
   "nbconvert_exporter": "python",
   "pygments_lexer": "ipython3",
   "version": "3.8.11"
  }
 },
 "nbformat": 4,
 "nbformat_minor": 5
}
